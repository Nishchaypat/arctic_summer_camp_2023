{
 "cells": [
  {
   "cell_type": "markdown",
   "metadata": {},
   "source": [
    "Import Libraries"
   ]
  },
  {
   "cell_type": "code",
   "execution_count": 21,
   "metadata": {
    "id": "KdzaPRwxVJcw"
   },
   "outputs": [],
   "source": [
    "import os\n",
    "import csv\n",
    "import json\n",
    "import shutil\n",
    "import numpy as np\n",
    "import pandas as pd\n",
    "from sklearn.model_selection import train_test_split"
   ]
  },
  {
   "cell_type": "markdown",
   "metadata": {},
   "source": [
    "Get the csv files from label studio. Read all the csv files that we have. We are going to combine all of them"
   ]
  },
  {
   "cell_type": "code",
   "execution_count": 22,
   "metadata": {
    "id": "x7k-9hkNRSBQ"
   },
   "outputs": [],
   "source": [
    "df1 = pd.read_csv(\"user_ga24251.csv\")\n",
    "df2 = pd.read_csv(\"user_gs75572.csv\")\n",
    "df3 = pd.read_csv(\"user_gs75588.csv\")\n",
    "df4 = pd.read_csv(\"user_gs75589.csv\")"
   ]
  },
  {
   "cell_type": "code",
   "execution_count": 3,
   "metadata": {},
   "outputs": [
    {
     "data": {
      "text/plain": [
       "(91, 9)"
      ]
     },
     "execution_count": 3,
     "metadata": {},
     "output_type": "execute_result"
    }
   ],
   "source": [
    "df1.shape"
   ]
  },
  {
   "cell_type": "code",
   "execution_count": 4,
   "metadata": {},
   "outputs": [
    {
     "data": {
      "text/plain": [
       "(47, 9)"
      ]
     },
     "execution_count": 4,
     "metadata": {},
     "output_type": "execute_result"
    }
   ],
   "source": [
    "df2.shape"
   ]
  },
  {
   "cell_type": "code",
   "execution_count": 5,
   "metadata": {},
   "outputs": [
    {
     "data": {
      "text/plain": [
       "(40, 9)"
      ]
     },
     "execution_count": 5,
     "metadata": {},
     "output_type": "execute_result"
    }
   ],
   "source": [
    "df3.shape"
   ]
  },
  {
   "cell_type": "code",
   "execution_count": 6,
   "metadata": {},
   "outputs": [
    {
     "data": {
      "text/plain": [
       "(80, 9)"
      ]
     },
     "execution_count": 6,
     "metadata": {},
     "output_type": "execute_result"
    }
   ],
   "source": [
    "df4.shape"
   ]
  },
  {
   "cell_type": "markdown",
   "metadata": {},
   "source": [
    "concat in pandas merges 2 dataframes"
   ]
  },
  {
   "cell_type": "code",
   "execution_count": 7,
   "metadata": {},
   "outputs": [
    {
     "data": {
      "text/plain": [
       "(258, 9)"
      ]
     },
     "execution_count": 7,
     "metadata": {},
     "output_type": "execute_result"
    }
   ],
   "source": [
    "df = pd.concat([df1, df2, df3, df4], ignore_index=True)\n",
    "df.shape"
   ]
  },
  {
   "cell_type": "markdown",
   "metadata": {},
   "source": [
    "40 observations from df1 and 67 observations from df2 makes 107 observation in total after concatenation"
   ]
  },
  {
   "cell_type": "markdown",
   "metadata": {},
   "source": [
    "head is a function of dataframe used toview certain numbers of observation"
   ]
  },
  {
   "cell_type": "code",
   "execution_count": 18,
   "metadata": {},
   "outputs": [],
   "source": [
    "csv = pd.read_csv(\"csv1.csv\")"
   ]
  },
  {
   "cell_type": "code",
   "execution_count": 19,
   "metadata": {},
   "outputs": [
    {
     "data": {
      "text/html": [
       "<div>\n",
       "<style scoped>\n",
       "    .dataframe tbody tr th:only-of-type {\n",
       "        vertical-align: middle;\n",
       "    }\n",
       "\n",
       "    .dataframe tbody tr th {\n",
       "        vertical-align: top;\n",
       "    }\n",
       "\n",
       "    .dataframe thead th {\n",
       "        text-align: right;\n",
       "    }\n",
       "</style>\n",
       "<table border=\"1\" class=\"dataframe\">\n",
       "  <thead>\n",
       "    <tr style=\"text-align: right;\">\n",
       "      <th></th>\n",
       "      <th>annotation_id</th>\n",
       "      <th>annotator</th>\n",
       "      <th>created_at</th>\n",
       "      <th>id</th>\n",
       "      <th>image</th>\n",
       "      <th>label</th>\n",
       "      <th>lead_time</th>\n",
       "      <th>updated_at</th>\n",
       "    </tr>\n",
       "  </thead>\n",
       "  <tbody>\n",
       "    <tr>\n",
       "      <th>0</th>\n",
       "      <td>729</td>\n",
       "      <td>1</td>\n",
       "      <td>2023-06-25T20:40:19.985689Z</td>\n",
       "      <td>1124</td>\n",
       "      <td>/data/upload/15/15fe0e8e-3614.jpg</td>\n",
       "      <td>[{\"x\":1.3473053892215578,\"y\":11.17764471057884...</td>\n",
       "      <td>16.452</td>\n",
       "      <td>2023-06-25T20:40:19.985716Z</td>\n",
       "    </tr>\n",
       "    <tr>\n",
       "      <th>1</th>\n",
       "      <td>730</td>\n",
       "      <td>1</td>\n",
       "      <td>2023-06-25T20:40:32.894975Z</td>\n",
       "      <td>1125</td>\n",
       "      <td>/data/upload/15/947e2d0f-3615.jpg</td>\n",
       "      <td>[{\"x\":5.276946107784431,\"y\":11.177644710578845...</td>\n",
       "      <td>11.278</td>\n",
       "      <td>2023-06-25T20:40:32.895002Z</td>\n",
       "    </tr>\n",
       "    <tr>\n",
       "      <th>2</th>\n",
       "      <td>731</td>\n",
       "      <td>1</td>\n",
       "      <td>2023-06-25T20:40:45.115771Z</td>\n",
       "      <td>1126</td>\n",
       "      <td>/data/upload/15/3efa7d55-3616.jpg</td>\n",
       "      <td>[{\"x\":10.66616766467066,\"y\":10.179640718562874...</td>\n",
       "      <td>10.231</td>\n",
       "      <td>2023-06-25T20:40:45.115803Z</td>\n",
       "    </tr>\n",
       "    <tr>\n",
       "      <th>3</th>\n",
       "      <td>732</td>\n",
       "      <td>1</td>\n",
       "      <td>2023-06-25T20:40:55.175976Z</td>\n",
       "      <td>1127</td>\n",
       "      <td>/data/upload/15/c722860e-3617.jpg</td>\n",
       "      <td>[{\"x\":14.595808383233532,\"y\":9.580838323353294...</td>\n",
       "      <td>8.473</td>\n",
       "      <td>2023-06-25T20:40:55.176002Z</td>\n",
       "    </tr>\n",
       "    <tr>\n",
       "      <th>4</th>\n",
       "      <td>733</td>\n",
       "      <td>1</td>\n",
       "      <td>2023-06-25T20:41:05.709348Z</td>\n",
       "      <td>1128</td>\n",
       "      <td>/data/upload/15/c27ff533-3618.jpg</td>\n",
       "      <td>[{\"x\":20.209580838323355,\"y\":10.17964071856287...</td>\n",
       "      <td>9.265</td>\n",
       "      <td>2023-06-25T20:41:05.709374Z</td>\n",
       "    </tr>\n",
       "  </tbody>\n",
       "</table>\n",
       "</div>"
      ],
      "text/plain": [
       "   annotation_id  annotator                   created_at    id  \\\n",
       "0            729          1  2023-06-25T20:40:19.985689Z  1124   \n",
       "1            730          1  2023-06-25T20:40:32.894975Z  1125   \n",
       "2            731          1  2023-06-25T20:40:45.115771Z  1126   \n",
       "3            732          1  2023-06-25T20:40:55.175976Z  1127   \n",
       "4            733          1  2023-06-25T20:41:05.709348Z  1128   \n",
       "\n",
       "                               image  \\\n",
       "0  /data/upload/15/15fe0e8e-3614.jpg   \n",
       "1  /data/upload/15/947e2d0f-3615.jpg   \n",
       "2  /data/upload/15/3efa7d55-3616.jpg   \n",
       "3  /data/upload/15/c722860e-3617.jpg   \n",
       "4  /data/upload/15/c27ff533-3618.jpg   \n",
       "\n",
       "                                               label  lead_time  \\\n",
       "0  [{\"x\":1.3473053892215578,\"y\":11.17764471057884...     16.452   \n",
       "1  [{\"x\":5.276946107784431,\"y\":11.177644710578845...     11.278   \n",
       "2  [{\"x\":10.66616766467066,\"y\":10.179640718562874...     10.231   \n",
       "3  [{\"x\":14.595808383233532,\"y\":9.580838323353294...      8.473   \n",
       "4  [{\"x\":20.209580838323355,\"y\":10.17964071856287...      9.265   \n",
       "\n",
       "                    updated_at  \n",
       "0  2023-06-25T20:40:19.985716Z  \n",
       "1  2023-06-25T20:40:32.895002Z  \n",
       "2  2023-06-25T20:40:45.115803Z  \n",
       "3  2023-06-25T20:40:55.176002Z  \n",
       "4  2023-06-25T20:41:05.709374Z  "
      ]
     },
     "execution_count": 19,
     "metadata": {},
     "output_type": "execute_result"
    }
   ],
   "source": [
    "csv.head()"
   ]
  },
  {
   "cell_type": "code",
   "execution_count": 20,
   "metadata": {},
   "outputs": [
    {
     "data": {
      "text/plain": [
       "0      [{'x': 44.50672645739912, 'y': 22.915411406365...\n",
       "1      [{'x': 44.843049327354265, 'y': 24.71350274040...\n",
       "2      [{'x': 45.06726457399103, 'y': 23.916292974588...\n",
       "3      [{'x': 45.06726457399103, 'y': 23.916292974588...\n",
       "4      [{'x': 44.843049327354265, 'y': 23.91629297458...\n",
       "                             ...                        \n",
       "253    [{\"x\":39.06844106463878,\"y\":28.052386987748207...\n",
       "254    [{\"x\":38.11787072243346,\"y\":28.052386987748207...\n",
       "255    [{\"x\":39.06844106463878,\"y\":27.714406421630756...\n",
       "256    [{\"x\":42.11026615969582,\"y\":25.686523024926068...\n",
       "257    [{\"x\":42.585551330798474,\"y\":24.84157160963244...\n",
       "Name: label, Length: 258, dtype: object"
      ]
     },
     "execution_count": 20,
     "metadata": {},
     "output_type": "execute_result"
    }
   ],
   "source": [
    "df[\"label\"]"
   ]
  },
  {
   "cell_type": "code",
   "execution_count": 8,
   "metadata": {
    "scrolled": true
   },
   "outputs": [
    {
     "data": {
      "text/html": [
       "<div>\n",
       "<style scoped>\n",
       "    .dataframe tbody tr th:only-of-type {\n",
       "        vertical-align: middle;\n",
       "    }\n",
       "\n",
       "    .dataframe tbody tr th {\n",
       "        vertical-align: top;\n",
       "    }\n",
       "\n",
       "    .dataframe thead th {\n",
       "        text-align: right;\n",
       "    }\n",
       "</style>\n",
       "<table border=\"1\" class=\"dataframe\">\n",
       "  <thead>\n",
       "    <tr style=\"text-align: right;\">\n",
       "      <th></th>\n",
       "      <th>Unnamed: 0</th>\n",
       "      <th>annotation_id</th>\n",
       "      <th>annotator</th>\n",
       "      <th>created_at</th>\n",
       "      <th>id</th>\n",
       "      <th>image</th>\n",
       "      <th>label</th>\n",
       "      <th>lead_time</th>\n",
       "      <th>updated_at</th>\n",
       "    </tr>\n",
       "  </thead>\n",
       "  <tbody>\n",
       "    <tr>\n",
       "      <th>0</th>\n",
       "      <td>0</td>\n",
       "      <td>1</td>\n",
       "      <td>1</td>\n",
       "      <td>2023-07-21T15:08:37.698702Z</td>\n",
       "      <td>1</td>\n",
       "      <td>ga24251_Frame_2.jpg</td>\n",
       "      <td>[{\"x\":44.50672645739912,\"y\":22.915411406365717...</td>\n",
       "      <td>118.321</td>\n",
       "      <td>2023-07-21T15:09:53.846573Z</td>\n",
       "    </tr>\n",
       "    <tr>\n",
       "      <th>1</th>\n",
       "      <td>1</td>\n",
       "      <td>2</td>\n",
       "      <td>1</td>\n",
       "      <td>2023-07-21T15:10:46.530373Z</td>\n",
       "      <td>2</td>\n",
       "      <td>ga24251_Frame_3.jpg</td>\n",
       "      <td>[{\"x\":44.843049327354265,\"y\":24.71350274040857...</td>\n",
       "      <td>48.008</td>\n",
       "      <td>2023-07-21T15:10:46.530408Z</td>\n",
       "    </tr>\n",
       "    <tr>\n",
       "      <th>2</th>\n",
       "      <td>2</td>\n",
       "      <td>3</td>\n",
       "      <td>1</td>\n",
       "      <td>2023-07-21T15:11:13.649224Z</td>\n",
       "      <td>3</td>\n",
       "      <td>ga24251_Frame_4.jpg</td>\n",
       "      <td>[{\"x\":45.06726457399103,\"y\":23.916292974588938...</td>\n",
       "      <td>26.660</td>\n",
       "      <td>2023-07-21T15:11:13.649261Z</td>\n",
       "    </tr>\n",
       "    <tr>\n",
       "      <th>3</th>\n",
       "      <td>3</td>\n",
       "      <td>4</td>\n",
       "      <td>1</td>\n",
       "      <td>2023-07-21T15:11:55.218090Z</td>\n",
       "      <td>4</td>\n",
       "      <td>ga24251_Frame_5.jpg</td>\n",
       "      <td>[{\"x\":45.06726457399103,\"y\":23.916292974588938...</td>\n",
       "      <td>25.817</td>\n",
       "      <td>2023-07-21T15:11:55.218126Z</td>\n",
       "    </tr>\n",
       "    <tr>\n",
       "      <th>4</th>\n",
       "      <td>4</td>\n",
       "      <td>5</td>\n",
       "      <td>1</td>\n",
       "      <td>2023-07-21T15:12:21.450490Z</td>\n",
       "      <td>5</td>\n",
       "      <td>ga24251_Frame_6.jpg</td>\n",
       "      <td>[{\"x\":44.843049327354265,\"y\":23.91629297458893...</td>\n",
       "      <td>25.794</td>\n",
       "      <td>2023-07-21T15:12:21.450529Z</td>\n",
       "    </tr>\n",
       "  </tbody>\n",
       "</table>\n",
       "</div>"
      ],
      "text/plain": [
       "   Unnamed: 0  annotation_id  annotator                   created_at  id  \\\n",
       "0           0              1          1  2023-07-21T15:08:37.698702Z   1   \n",
       "1           1              2          1  2023-07-21T15:10:46.530373Z   2   \n",
       "2           2              3          1  2023-07-21T15:11:13.649224Z   3   \n",
       "3           3              4          1  2023-07-21T15:11:55.218090Z   4   \n",
       "4           4              5          1  2023-07-21T15:12:21.450490Z   5   \n",
       "\n",
       "                 image                                              label  \\\n",
       "0  ga24251_Frame_2.jpg  [{\"x\":44.50672645739912,\"y\":22.915411406365717...   \n",
       "1  ga24251_Frame_3.jpg  [{\"x\":44.843049327354265,\"y\":24.71350274040857...   \n",
       "2  ga24251_Frame_4.jpg  [{\"x\":45.06726457399103,\"y\":23.916292974588938...   \n",
       "3  ga24251_Frame_5.jpg  [{\"x\":45.06726457399103,\"y\":23.916292974588938...   \n",
       "4  ga24251_Frame_6.jpg  [{\"x\":44.843049327354265,\"y\":23.91629297458893...   \n",
       "\n",
       "   lead_time                   updated_at  \n",
       "0    118.321  2023-07-21T15:09:53.846573Z  \n",
       "1     48.008  2023-07-21T15:10:46.530408Z  \n",
       "2     26.660  2023-07-21T15:11:13.649261Z  \n",
       "3     25.817  2023-07-21T15:11:55.218126Z  \n",
       "4     25.794  2023-07-21T15:12:21.450529Z  "
      ]
     },
     "execution_count": 8,
     "metadata": {},
     "output_type": "execute_result"
    }
   ],
   "source": [
    "df.head()"
   ]
  },
  {
   "cell_type": "markdown",
   "metadata": {},
   "source": [
    "we want only the name of the image so we split the image name from the whole directory paths in the column image"
   ]
  },
  {
   "cell_type": "code",
   "execution_count": 9,
   "metadata": {
    "id": "o-0qiZBKVP0G"
   },
   "outputs": [],
   "source": [
    "# df[\"image\"] = df[\"image\"].str.split(\"-\").str[-1]"
   ]
  },
  {
   "cell_type": "markdown",
   "metadata": {},
   "source": [
    "In the image column we only have filenames instead of whole path"
   ]
  },
  {
   "cell_type": "code",
   "execution_count": 10,
   "metadata": {},
   "outputs": [
    {
     "data": {
      "text/html": [
       "<div>\n",
       "<style scoped>\n",
       "    .dataframe tbody tr th:only-of-type {\n",
       "        vertical-align: middle;\n",
       "    }\n",
       "\n",
       "    .dataframe tbody tr th {\n",
       "        vertical-align: top;\n",
       "    }\n",
       "\n",
       "    .dataframe thead th {\n",
       "        text-align: right;\n",
       "    }\n",
       "</style>\n",
       "<table border=\"1\" class=\"dataframe\">\n",
       "  <thead>\n",
       "    <tr style=\"text-align: right;\">\n",
       "      <th></th>\n",
       "      <th>Unnamed: 0</th>\n",
       "      <th>annotation_id</th>\n",
       "      <th>annotator</th>\n",
       "      <th>created_at</th>\n",
       "      <th>id</th>\n",
       "      <th>image</th>\n",
       "      <th>label</th>\n",
       "      <th>lead_time</th>\n",
       "      <th>updated_at</th>\n",
       "    </tr>\n",
       "  </thead>\n",
       "  <tbody>\n",
       "    <tr>\n",
       "      <th>0</th>\n",
       "      <td>0</td>\n",
       "      <td>1</td>\n",
       "      <td>1</td>\n",
       "      <td>2023-07-21T15:08:37.698702Z</td>\n",
       "      <td>1</td>\n",
       "      <td>ga24251_Frame_2.jpg</td>\n",
       "      <td>[{\"x\":44.50672645739912,\"y\":22.915411406365717...</td>\n",
       "      <td>118.321</td>\n",
       "      <td>2023-07-21T15:09:53.846573Z</td>\n",
       "    </tr>\n",
       "    <tr>\n",
       "      <th>1</th>\n",
       "      <td>1</td>\n",
       "      <td>2</td>\n",
       "      <td>1</td>\n",
       "      <td>2023-07-21T15:10:46.530373Z</td>\n",
       "      <td>2</td>\n",
       "      <td>ga24251_Frame_3.jpg</td>\n",
       "      <td>[{\"x\":44.843049327354265,\"y\":24.71350274040857...</td>\n",
       "      <td>48.008</td>\n",
       "      <td>2023-07-21T15:10:46.530408Z</td>\n",
       "    </tr>\n",
       "    <tr>\n",
       "      <th>2</th>\n",
       "      <td>2</td>\n",
       "      <td>3</td>\n",
       "      <td>1</td>\n",
       "      <td>2023-07-21T15:11:13.649224Z</td>\n",
       "      <td>3</td>\n",
       "      <td>ga24251_Frame_4.jpg</td>\n",
       "      <td>[{\"x\":45.06726457399103,\"y\":23.916292974588938...</td>\n",
       "      <td>26.660</td>\n",
       "      <td>2023-07-21T15:11:13.649261Z</td>\n",
       "    </tr>\n",
       "    <tr>\n",
       "      <th>3</th>\n",
       "      <td>3</td>\n",
       "      <td>4</td>\n",
       "      <td>1</td>\n",
       "      <td>2023-07-21T15:11:55.218090Z</td>\n",
       "      <td>4</td>\n",
       "      <td>ga24251_Frame_5.jpg</td>\n",
       "      <td>[{\"x\":45.06726457399103,\"y\":23.916292974588938...</td>\n",
       "      <td>25.817</td>\n",
       "      <td>2023-07-21T15:11:55.218126Z</td>\n",
       "    </tr>\n",
       "    <tr>\n",
       "      <th>4</th>\n",
       "      <td>4</td>\n",
       "      <td>5</td>\n",
       "      <td>1</td>\n",
       "      <td>2023-07-21T15:12:21.450490Z</td>\n",
       "      <td>5</td>\n",
       "      <td>ga24251_Frame_6.jpg</td>\n",
       "      <td>[{\"x\":44.843049327354265,\"y\":23.91629297458893...</td>\n",
       "      <td>25.794</td>\n",
       "      <td>2023-07-21T15:12:21.450529Z</td>\n",
       "    </tr>\n",
       "  </tbody>\n",
       "</table>\n",
       "</div>"
      ],
      "text/plain": [
       "   Unnamed: 0  annotation_id  annotator                   created_at  id  \\\n",
       "0           0              1          1  2023-07-21T15:08:37.698702Z   1   \n",
       "1           1              2          1  2023-07-21T15:10:46.530373Z   2   \n",
       "2           2              3          1  2023-07-21T15:11:13.649224Z   3   \n",
       "3           3              4          1  2023-07-21T15:11:55.218090Z   4   \n",
       "4           4              5          1  2023-07-21T15:12:21.450490Z   5   \n",
       "\n",
       "                 image                                              label  \\\n",
       "0  ga24251_Frame_2.jpg  [{\"x\":44.50672645739912,\"y\":22.915411406365717...   \n",
       "1  ga24251_Frame_3.jpg  [{\"x\":44.843049327354265,\"y\":24.71350274040857...   \n",
       "2  ga24251_Frame_4.jpg  [{\"x\":45.06726457399103,\"y\":23.916292974588938...   \n",
       "3  ga24251_Frame_5.jpg  [{\"x\":45.06726457399103,\"y\":23.916292974588938...   \n",
       "4  ga24251_Frame_6.jpg  [{\"x\":44.843049327354265,\"y\":23.91629297458893...   \n",
       "\n",
       "   lead_time                   updated_at  \n",
       "0    118.321  2023-07-21T15:09:53.846573Z  \n",
       "1     48.008  2023-07-21T15:10:46.530408Z  \n",
       "2     26.660  2023-07-21T15:11:13.649261Z  \n",
       "3     25.817  2023-07-21T15:11:55.218126Z  \n",
       "4     25.794  2023-07-21T15:12:21.450529Z  "
      ]
     },
     "execution_count": 10,
     "metadata": {},
     "output_type": "execute_result"
    }
   ],
   "source": [
    "df.head()"
   ]
  },
  {
   "cell_type": "code",
   "execution_count": 11,
   "metadata": {
    "id": "cYcb6Z90YS7X"
   },
   "outputs": [],
   "source": [
    "df.drop([\"updated_at\", \"lead_time\"], axis=1, inplace=True)"
   ]
  },
  {
   "cell_type": "code",
   "execution_count": 12,
   "metadata": {
    "colab": {
     "base_uri": "https://localhost:8080/",
     "height": 424
    },
    "id": "4JXmbkFUYiMx",
    "outputId": "7c3cd1c2-9439-4846-9f74-491671be5499"
   },
   "outputs": [
    {
     "data": {
      "text/html": [
       "<div>\n",
       "<style scoped>\n",
       "    .dataframe tbody tr th:only-of-type {\n",
       "        vertical-align: middle;\n",
       "    }\n",
       "\n",
       "    .dataframe tbody tr th {\n",
       "        vertical-align: top;\n",
       "    }\n",
       "\n",
       "    .dataframe thead th {\n",
       "        text-align: right;\n",
       "    }\n",
       "</style>\n",
       "<table border=\"1\" class=\"dataframe\">\n",
       "  <thead>\n",
       "    <tr style=\"text-align: right;\">\n",
       "      <th></th>\n",
       "      <th>Unnamed: 0</th>\n",
       "      <th>annotation_id</th>\n",
       "      <th>annotator</th>\n",
       "      <th>created_at</th>\n",
       "      <th>id</th>\n",
       "      <th>image</th>\n",
       "      <th>label</th>\n",
       "    </tr>\n",
       "  </thead>\n",
       "  <tbody>\n",
       "    <tr>\n",
       "      <th>0</th>\n",
       "      <td>0</td>\n",
       "      <td>1</td>\n",
       "      <td>1</td>\n",
       "      <td>2023-07-21T15:08:37.698702Z</td>\n",
       "      <td>1</td>\n",
       "      <td>ga24251_Frame_2.jpg</td>\n",
       "      <td>[{\"x\":44.50672645739912,\"y\":22.915411406365717...</td>\n",
       "    </tr>\n",
       "    <tr>\n",
       "      <th>1</th>\n",
       "      <td>1</td>\n",
       "      <td>2</td>\n",
       "      <td>1</td>\n",
       "      <td>2023-07-21T15:10:46.530373Z</td>\n",
       "      <td>2</td>\n",
       "      <td>ga24251_Frame_3.jpg</td>\n",
       "      <td>[{\"x\":44.843049327354265,\"y\":24.71350274040857...</td>\n",
       "    </tr>\n",
       "    <tr>\n",
       "      <th>2</th>\n",
       "      <td>2</td>\n",
       "      <td>3</td>\n",
       "      <td>1</td>\n",
       "      <td>2023-07-21T15:11:13.649224Z</td>\n",
       "      <td>3</td>\n",
       "      <td>ga24251_Frame_4.jpg</td>\n",
       "      <td>[{\"x\":45.06726457399103,\"y\":23.916292974588938...</td>\n",
       "    </tr>\n",
       "    <tr>\n",
       "      <th>3</th>\n",
       "      <td>3</td>\n",
       "      <td>4</td>\n",
       "      <td>1</td>\n",
       "      <td>2023-07-21T15:11:55.218090Z</td>\n",
       "      <td>4</td>\n",
       "      <td>ga24251_Frame_5.jpg</td>\n",
       "      <td>[{\"x\":45.06726457399103,\"y\":23.916292974588938...</td>\n",
       "    </tr>\n",
       "    <tr>\n",
       "      <th>4</th>\n",
       "      <td>4</td>\n",
       "      <td>5</td>\n",
       "      <td>1</td>\n",
       "      <td>2023-07-21T15:12:21.450490Z</td>\n",
       "      <td>5</td>\n",
       "      <td>ga24251_Frame_6.jpg</td>\n",
       "      <td>[{\"x\":44.843049327354265,\"y\":23.91629297458893...</td>\n",
       "    </tr>\n",
       "  </tbody>\n",
       "</table>\n",
       "</div>"
      ],
      "text/plain": [
       "   Unnamed: 0  annotation_id  annotator                   created_at  id  \\\n",
       "0           0              1          1  2023-07-21T15:08:37.698702Z   1   \n",
       "1           1              2          1  2023-07-21T15:10:46.530373Z   2   \n",
       "2           2              3          1  2023-07-21T15:11:13.649224Z   3   \n",
       "3           3              4          1  2023-07-21T15:11:55.218090Z   4   \n",
       "4           4              5          1  2023-07-21T15:12:21.450490Z   5   \n",
       "\n",
       "                 image                                              label  \n",
       "0  ga24251_Frame_2.jpg  [{\"x\":44.50672645739912,\"y\":22.915411406365717...  \n",
       "1  ga24251_Frame_3.jpg  [{\"x\":44.843049327354265,\"y\":24.71350274040857...  \n",
       "2  ga24251_Frame_4.jpg  [{\"x\":45.06726457399103,\"y\":23.916292974588938...  \n",
       "3  ga24251_Frame_5.jpg  [{\"x\":45.06726457399103,\"y\":23.916292974588938...  \n",
       "4  ga24251_Frame_6.jpg  [{\"x\":44.843049327354265,\"y\":23.91629297458893...  "
      ]
     },
     "execution_count": 12,
     "metadata": {},
     "output_type": "execute_result"
    }
   ],
   "source": [
    "df.head()"
   ]
  },
  {
   "cell_type": "markdown",
   "metadata": {},
   "source": [
    "We now operate with the label column. In this case we have 2 labels in the image"
   ]
  },
  {
   "cell_type": "code",
   "execution_count": 13,
   "metadata": {},
   "outputs": [
    {
     "data": {
      "text/plain": [
       "('[{\"x\":45.06726457399103,\"y\":18.33582461385152,\"width\":13.116591928251118,\"height\":18.33582461385152,\"rotation\":0,\"rectanglelabels\":[\"Right\"],\"original_width\":1280,\"original_height\":720},{\"x\":76.68161434977578,\"y\":28.101644245142005,\"width\":4.4843049327354265,\"height\":6.377678126557051,\"rotation\":0,\"rectanglelabels\":[\"Stop\"],\"original_width\":1280,\"original_height\":720}]',\n",
       " 'ga24251_Frame_23.jpg')"
      ]
     },
     "execution_count": 13,
     "metadata": {},
     "output_type": "execute_result"
    }
   ],
   "source": [
    "df[\"label\"][18], df[\"image\"][18]"
   ]
  },
  {
   "cell_type": "code",
   "execution_count": 14,
   "metadata": {
    "id": "5HzXMcu_chHM"
   },
   "outputs": [],
   "source": [
    "string_to_code = {\"Right\":0, \"Left\":1, \"Stop\":2}\n",
    "code_to_string = {0:\"Right\", 1:\"Left\", 2:\"Stop\"}"
   ]
  },
  {
   "cell_type": "markdown",
   "metadata": {},
   "source": [
    "Changing text into json to extract key values easily"
   ]
  },
  {
   "cell_type": "code",
   "execution_count": 17,
   "metadata": {
    "colab": {
     "base_uri": "https://localhost:8080/"
    },
    "id": "1txb8SsrezJI",
    "outputId": "8d5a858a-36bd-4237-8e99-60968a7efab0",
    "scrolled": true
   },
   "outputs": [
    {
     "name": "stdout",
     "output_type": "stream",
     "text": [
      "text <class 'list'>\n"
     ]
    },
    {
     "ename": "TypeError",
     "evalue": "the JSON object must be str, bytes or bytearray, not list",
     "output_type": "error",
     "traceback": [
      "\u001b[0;31m---------------------------------------------------------------------------\u001b[0m",
      "\u001b[0;31mTypeError\u001b[0m                                 Traceback (most recent call last)",
      "Cell \u001b[0;32mIn[17], line 4\u001b[0m\n\u001b[1;32m      2\u001b[0m text \u001b[38;5;241m=\u001b[39m df\u001b[38;5;241m.\u001b[39miloc[row_idx][\u001b[38;5;124m\"\u001b[39m\u001b[38;5;124mlabel\u001b[39m\u001b[38;5;124m\"\u001b[39m]\n\u001b[1;32m      3\u001b[0m \u001b[38;5;28mprint\u001b[39m(\u001b[38;5;124m\"\u001b[39m\u001b[38;5;124mtext\u001b[39m\u001b[38;5;124m\"\u001b[39m, \u001b[38;5;28mtype\u001b[39m(text))\n\u001b[0;32m----> 4\u001b[0m res \u001b[38;5;241m=\u001b[39m \u001b[43mjson\u001b[49m\u001b[38;5;241;43m.\u001b[39;49m\u001b[43mloads\u001b[49m\u001b[43m(\u001b[49m\u001b[43mtext\u001b[49m\u001b[43m)\u001b[49m\n\u001b[1;32m      5\u001b[0m df[\u001b[38;5;124m\"\u001b[39m\u001b[38;5;124mlabel\u001b[39m\u001b[38;5;124m\"\u001b[39m]\u001b[38;5;241m.\u001b[39miloc[row_idx] \u001b[38;5;241m=\u001b[39m res\n",
      "File \u001b[0;32m/sysapps/ubuntu-applications/python/3.9.9/Python-3.9.9/Build/lib/python3.9/json/__init__.py:339\u001b[0m, in \u001b[0;36mloads\u001b[0;34m(s, cls, object_hook, parse_float, parse_int, parse_constant, object_pairs_hook, **kw)\u001b[0m\n\u001b[1;32m    337\u001b[0m \u001b[38;5;28;01melse\u001b[39;00m:\n\u001b[1;32m    338\u001b[0m     \u001b[38;5;28;01mif\u001b[39;00m \u001b[38;5;129;01mnot\u001b[39;00m \u001b[38;5;28misinstance\u001b[39m(s, (\u001b[38;5;28mbytes\u001b[39m, \u001b[38;5;28mbytearray\u001b[39m)):\n\u001b[0;32m--> 339\u001b[0m         \u001b[38;5;28;01mraise\u001b[39;00m \u001b[38;5;167;01mTypeError\u001b[39;00m(\u001b[38;5;124mf\u001b[39m\u001b[38;5;124m'\u001b[39m\u001b[38;5;124mthe JSON object must be str, bytes or bytearray, \u001b[39m\u001b[38;5;124m'\u001b[39m\n\u001b[1;32m    340\u001b[0m                         \u001b[38;5;124mf\u001b[39m\u001b[38;5;124m'\u001b[39m\u001b[38;5;124mnot \u001b[39m\u001b[38;5;132;01m{\u001b[39;00ms\u001b[38;5;241m.\u001b[39m\u001b[38;5;18m__class__\u001b[39m\u001b[38;5;241m.\u001b[39m\u001b[38;5;18m__name__\u001b[39m\u001b[38;5;132;01m}\u001b[39;00m\u001b[38;5;124m'\u001b[39m)\n\u001b[1;32m    341\u001b[0m     s \u001b[38;5;241m=\u001b[39m s\u001b[38;5;241m.\u001b[39mdecode(detect_encoding(s), \u001b[38;5;124m'\u001b[39m\u001b[38;5;124msurrogatepass\u001b[39m\u001b[38;5;124m'\u001b[39m)\n\u001b[1;32m    343\u001b[0m \u001b[38;5;28;01mif\u001b[39;00m (\u001b[38;5;28mcls\u001b[39m \u001b[38;5;129;01mis\u001b[39;00m \u001b[38;5;28;01mNone\u001b[39;00m \u001b[38;5;129;01mand\u001b[39;00m object_hook \u001b[38;5;129;01mis\u001b[39;00m \u001b[38;5;28;01mNone\u001b[39;00m \u001b[38;5;129;01mand\u001b[39;00m\n\u001b[1;32m    344\u001b[0m         parse_int \u001b[38;5;129;01mis\u001b[39;00m \u001b[38;5;28;01mNone\u001b[39;00m \u001b[38;5;129;01mand\u001b[39;00m parse_float \u001b[38;5;129;01mis\u001b[39;00m \u001b[38;5;28;01mNone\u001b[39;00m \u001b[38;5;129;01mand\u001b[39;00m\n\u001b[1;32m    345\u001b[0m         parse_constant \u001b[38;5;129;01mis\u001b[39;00m \u001b[38;5;28;01mNone\u001b[39;00m \u001b[38;5;129;01mand\u001b[39;00m object_pairs_hook \u001b[38;5;129;01mis\u001b[39;00m \u001b[38;5;28;01mNone\u001b[39;00m \u001b[38;5;129;01mand\u001b[39;00m \u001b[38;5;129;01mnot\u001b[39;00m kw):\n",
      "\u001b[0;31mTypeError\u001b[0m: the JSON object must be str, bytes or bytearray, not list"
     ]
    }
   ],
   "source": [
    "for row_idx in range(len(df)):\n",
    "  text = df.iloc[row_idx][\"label\"]\n",
    "  print(\"text\", type(text))\n",
    "  res = json.loads(text)\n",
    "  df[\"label\"].iloc[row_idx] = res\n"
   ]
  },
  {
   "cell_type": "code",
   "execution_count": null,
   "metadata": {
    "colab": {
     "base_uri": "https://localhost:8080/",
     "height": 424
    },
    "id": "13w8dESpn15I",
    "outputId": "ae13e4d3-6a78-4e30-a8ca-61a1f32e104c"
   },
   "outputs": [],
   "source": [
    "df.head()"
   ]
  },
  {
   "cell_type": "markdown",
   "metadata": {},
   "source": [
    "atomicity, break the list in the label column"
   ]
  },
  {
   "cell_type": "code",
   "execution_count": null,
   "metadata": {
    "id": "KSHz1Heamhtc"
   },
   "outputs": [],
   "source": [
    "df_exploded = df.explode('label')\n",
    "df_exploded.reset_index(inplace=True)"
   ]
  },
  {
   "cell_type": "code",
   "execution_count": null,
   "metadata": {},
   "outputs": [],
   "source": [
    "df_exploded.head()"
   ]
  },
  {
   "cell_type": "code",
   "execution_count": 17,
   "metadata": {
    "colab": {
     "base_uri": "https://localhost:8080/"
    },
    "id": "KVJUKA0tParj",
    "outputId": "288bc4f5-63e5-4e39-cfb2-be5c41ca7f70"
   },
   "outputs": [
    {
     "data": {
      "text/plain": [
       "134"
      ]
     },
     "execution_count": 17,
     "metadata": {},
     "output_type": "execute_result"
    }
   ],
   "source": [
    "len(df_exploded['label'].tolist())"
   ]
  },
  {
   "cell_type": "code",
   "execution_count": 18,
   "metadata": {
    "id": "QHhq21lapfb0"
   },
   "outputs": [],
   "source": [
    "df_exploded[['x', 'y','width', 'height', 'rotation','rectanglelabels','original_width', 'original_height']] = pd.DataFrame(df_exploded['label'].tolist())\n"
   ]
  },
  {
   "cell_type": "code",
   "execution_count": 19,
   "metadata": {
    "colab": {
     "base_uri": "https://localhost:8080/",
     "height": 1000
    },
    "id": "V4xG5ju2QYs0",
    "outputId": "4eddd9c8-0e23-4aa9-89b7-e486b28c224f"
   },
   "outputs": [
    {
     "data": {
      "text/html": [
       "<div>\n",
       "<style scoped>\n",
       "    .dataframe tbody tr th:only-of-type {\n",
       "        vertical-align: middle;\n",
       "    }\n",
       "\n",
       "    .dataframe tbody tr th {\n",
       "        vertical-align: top;\n",
       "    }\n",
       "\n",
       "    .dataframe thead th {\n",
       "        text-align: right;\n",
       "    }\n",
       "</style>\n",
       "<table border=\"1\" class=\"dataframe\">\n",
       "  <thead>\n",
       "    <tr style=\"text-align: right;\">\n",
       "      <th></th>\n",
       "      <th>index</th>\n",
       "      <th>annotation_id</th>\n",
       "      <th>annotator</th>\n",
       "      <th>created_at</th>\n",
       "      <th>id</th>\n",
       "      <th>image</th>\n",
       "      <th>label</th>\n",
       "      <th>x</th>\n",
       "      <th>y</th>\n",
       "      <th>width</th>\n",
       "      <th>height</th>\n",
       "      <th>rotation</th>\n",
       "      <th>rectanglelabels</th>\n",
       "      <th>original_width</th>\n",
       "      <th>original_height</th>\n",
       "    </tr>\n",
       "  </thead>\n",
       "  <tbody>\n",
       "    <tr>\n",
       "      <th>0</th>\n",
       "      <td>0</td>\n",
       "      <td>729</td>\n",
       "      <td>1</td>\n",
       "      <td>2023-06-25T20:40:19.985689Z</td>\n",
       "      <td>1124</td>\n",
       "      <td>3614.jpg</td>\n",
       "      <td>{'x': 1.3473053892215578, 'y': 11.177644710578...</td>\n",
       "      <td>1.347305</td>\n",
       "      <td>11.177645</td>\n",
       "      <td>10.441617</td>\n",
       "      <td>16.367265</td>\n",
       "      <td>0</td>\n",
       "      <td>[Stop]</td>\n",
       "      <td>1280</td>\n",
       "      <td>720</td>\n",
       "    </tr>\n",
       "    <tr>\n",
       "      <th>1</th>\n",
       "      <td>1</td>\n",
       "      <td>730</td>\n",
       "      <td>1</td>\n",
       "      <td>2023-06-25T20:40:32.894975Z</td>\n",
       "      <td>1125</td>\n",
       "      <td>3615.jpg</td>\n",
       "      <td>{'x': 5.276946107784431, 'y': 11.1776447105788...</td>\n",
       "      <td>5.276946</td>\n",
       "      <td>11.177645</td>\n",
       "      <td>10.890719</td>\n",
       "      <td>16.167665</td>\n",
       "      <td>0</td>\n",
       "      <td>[Stop]</td>\n",
       "      <td>1280</td>\n",
       "      <td>720</td>\n",
       "    </tr>\n",
       "    <tr>\n",
       "      <th>2</th>\n",
       "      <td>2</td>\n",
       "      <td>731</td>\n",
       "      <td>1</td>\n",
       "      <td>2023-06-25T20:40:45.115771Z</td>\n",
       "      <td>1126</td>\n",
       "      <td>3616.jpg</td>\n",
       "      <td>{'x': 10.66616766467066, 'y': 10.1796407185628...</td>\n",
       "      <td>10.666168</td>\n",
       "      <td>10.179641</td>\n",
       "      <td>11.339820</td>\n",
       "      <td>16.766467</td>\n",
       "      <td>0</td>\n",
       "      <td>[Stop]</td>\n",
       "      <td>1280</td>\n",
       "      <td>720</td>\n",
       "    </tr>\n",
       "    <tr>\n",
       "      <th>3</th>\n",
       "      <td>3</td>\n",
       "      <td>732</td>\n",
       "      <td>1</td>\n",
       "      <td>2023-06-25T20:40:55.175976Z</td>\n",
       "      <td>1127</td>\n",
       "      <td>3617.jpg</td>\n",
       "      <td>{'x': 14.595808383233532, 'y': 9.5808383233532...</td>\n",
       "      <td>14.595808</td>\n",
       "      <td>9.580838</td>\n",
       "      <td>11.564371</td>\n",
       "      <td>16.966068</td>\n",
       "      <td>0</td>\n",
       "      <td>[Stop]</td>\n",
       "      <td>1280</td>\n",
       "      <td>720</td>\n",
       "    </tr>\n",
       "    <tr>\n",
       "      <th>4</th>\n",
       "      <td>4</td>\n",
       "      <td>733</td>\n",
       "      <td>1</td>\n",
       "      <td>2023-06-25T20:41:05.709348Z</td>\n",
       "      <td>1128</td>\n",
       "      <td>3618.jpg</td>\n",
       "      <td>{'x': 20.209580838323355, 'y': 10.179640718562...</td>\n",
       "      <td>20.209581</td>\n",
       "      <td>10.179641</td>\n",
       "      <td>12.013473</td>\n",
       "      <td>16.566866</td>\n",
       "      <td>0</td>\n",
       "      <td>[Stop]</td>\n",
       "      <td>1280</td>\n",
       "      <td>720</td>\n",
       "    </tr>\n",
       "  </tbody>\n",
       "</table>\n",
       "</div>"
      ],
      "text/plain": [
       "   index  annotation_id  annotator                   created_at    id  \\\n",
       "0      0            729          1  2023-06-25T20:40:19.985689Z  1124   \n",
       "1      1            730          1  2023-06-25T20:40:32.894975Z  1125   \n",
       "2      2            731          1  2023-06-25T20:40:45.115771Z  1126   \n",
       "3      3            732          1  2023-06-25T20:40:55.175976Z  1127   \n",
       "4      4            733          1  2023-06-25T20:41:05.709348Z  1128   \n",
       "\n",
       "      image                                              label          x  \\\n",
       "0  3614.jpg  {'x': 1.3473053892215578, 'y': 11.177644710578...   1.347305   \n",
       "1  3615.jpg  {'x': 5.276946107784431, 'y': 11.1776447105788...   5.276946   \n",
       "2  3616.jpg  {'x': 10.66616766467066, 'y': 10.1796407185628...  10.666168   \n",
       "3  3617.jpg  {'x': 14.595808383233532, 'y': 9.5808383233532...  14.595808   \n",
       "4  3618.jpg  {'x': 20.209580838323355, 'y': 10.179640718562...  20.209581   \n",
       "\n",
       "           y      width     height  rotation rectanglelabels  original_width  \\\n",
       "0  11.177645  10.441617  16.367265         0          [Stop]            1280   \n",
       "1  11.177645  10.890719  16.167665         0          [Stop]            1280   \n",
       "2  10.179641  11.339820  16.766467         0          [Stop]            1280   \n",
       "3   9.580838  11.564371  16.966068         0          [Stop]            1280   \n",
       "4  10.179641  12.013473  16.566866         0          [Stop]            1280   \n",
       "\n",
       "   original_height  \n",
       "0              720  \n",
       "1              720  \n",
       "2              720  \n",
       "3              720  \n",
       "4              720  "
      ]
     },
     "execution_count": 19,
     "metadata": {},
     "output_type": "execute_result"
    }
   ],
   "source": [
    "df_exploded.head()"
   ]
  },
  {
   "cell_type": "markdown",
   "metadata": {},
   "source": [
    "remove unwanted labels"
   ]
  },
  {
   "cell_type": "code",
   "execution_count": 20,
   "metadata": {
    "id": "Tp5HKfWgFNvg"
   },
   "outputs": [],
   "source": [
    "df_exploded[\"label_dicts\"] = df_exploded['label'].tolist()"
   ]
  },
  {
   "cell_type": "markdown",
   "metadata": {},
   "source": [
    "take string from list"
   ]
  },
  {
   "cell_type": "code",
   "execution_count": 21,
   "metadata": {
    "id": "ZY1q2fyFrgsS"
   },
   "outputs": [],
   "source": [
    "df_exploded[\"rectanglelabels\"] = df_exploded[\"rectanglelabels\"].str[0]"
   ]
  },
  {
   "cell_type": "code",
   "execution_count": 22,
   "metadata": {
    "id": "SCwIYOUuroBW"
   },
   "outputs": [],
   "source": [
    "df_exploded = df_exploded.replace(string_to_code)"
   ]
  },
  {
   "cell_type": "code",
   "execution_count": 23,
   "metadata": {
    "colab": {
     "base_uri": "https://localhost:8080/"
    },
    "id": "Tor6ZwCgrsP9",
    "outputId": "158a0107-a3ca-4c23-e7c1-858037476929"
   },
   "outputs": [
    {
     "data": {
      "text/html": [
       "<div>\n",
       "<style scoped>\n",
       "    .dataframe tbody tr th:only-of-type {\n",
       "        vertical-align: middle;\n",
       "    }\n",
       "\n",
       "    .dataframe tbody tr th {\n",
       "        vertical-align: top;\n",
       "    }\n",
       "\n",
       "    .dataframe thead th {\n",
       "        text-align: right;\n",
       "    }\n",
       "</style>\n",
       "<table border=\"1\" class=\"dataframe\">\n",
       "  <thead>\n",
       "    <tr style=\"text-align: right;\">\n",
       "      <th></th>\n",
       "      <th>index</th>\n",
       "      <th>annotation_id</th>\n",
       "      <th>annotator</th>\n",
       "      <th>created_at</th>\n",
       "      <th>id</th>\n",
       "      <th>image</th>\n",
       "      <th>label</th>\n",
       "      <th>x</th>\n",
       "      <th>y</th>\n",
       "      <th>width</th>\n",
       "      <th>height</th>\n",
       "      <th>rotation</th>\n",
       "      <th>rectanglelabels</th>\n",
       "      <th>original_width</th>\n",
       "      <th>original_height</th>\n",
       "      <th>label_dicts</th>\n",
       "    </tr>\n",
       "  </thead>\n",
       "  <tbody>\n",
       "    <tr>\n",
       "      <th>0</th>\n",
       "      <td>0</td>\n",
       "      <td>729</td>\n",
       "      <td>1</td>\n",
       "      <td>2023-06-25T20:40:19.985689Z</td>\n",
       "      <td>1124</td>\n",
       "      <td>3614.jpg</td>\n",
       "      <td>{'x': 1.3473053892215578, 'y': 11.177644710578...</td>\n",
       "      <td>1.347305</td>\n",
       "      <td>11.177645</td>\n",
       "      <td>10.441617</td>\n",
       "      <td>16.367265</td>\n",
       "      <td>0</td>\n",
       "      <td>2</td>\n",
       "      <td>1280</td>\n",
       "      <td>720</td>\n",
       "      <td>{'x': 1.3473053892215578, 'y': 11.177644710578...</td>\n",
       "    </tr>\n",
       "    <tr>\n",
       "      <th>1</th>\n",
       "      <td>1</td>\n",
       "      <td>730</td>\n",
       "      <td>1</td>\n",
       "      <td>2023-06-25T20:40:32.894975Z</td>\n",
       "      <td>1125</td>\n",
       "      <td>3615.jpg</td>\n",
       "      <td>{'x': 5.276946107784431, 'y': 11.1776447105788...</td>\n",
       "      <td>5.276946</td>\n",
       "      <td>11.177645</td>\n",
       "      <td>10.890719</td>\n",
       "      <td>16.167665</td>\n",
       "      <td>0</td>\n",
       "      <td>2</td>\n",
       "      <td>1280</td>\n",
       "      <td>720</td>\n",
       "      <td>{'x': 5.276946107784431, 'y': 11.1776447105788...</td>\n",
       "    </tr>\n",
       "    <tr>\n",
       "      <th>2</th>\n",
       "      <td>2</td>\n",
       "      <td>731</td>\n",
       "      <td>1</td>\n",
       "      <td>2023-06-25T20:40:45.115771Z</td>\n",
       "      <td>1126</td>\n",
       "      <td>3616.jpg</td>\n",
       "      <td>{'x': 10.66616766467066, 'y': 10.1796407185628...</td>\n",
       "      <td>10.666168</td>\n",
       "      <td>10.179641</td>\n",
       "      <td>11.339820</td>\n",
       "      <td>16.766467</td>\n",
       "      <td>0</td>\n",
       "      <td>2</td>\n",
       "      <td>1280</td>\n",
       "      <td>720</td>\n",
       "      <td>{'x': 10.66616766467066, 'y': 10.1796407185628...</td>\n",
       "    </tr>\n",
       "    <tr>\n",
       "      <th>3</th>\n",
       "      <td>3</td>\n",
       "      <td>732</td>\n",
       "      <td>1</td>\n",
       "      <td>2023-06-25T20:40:55.175976Z</td>\n",
       "      <td>1127</td>\n",
       "      <td>3617.jpg</td>\n",
       "      <td>{'x': 14.595808383233532, 'y': 9.5808383233532...</td>\n",
       "      <td>14.595808</td>\n",
       "      <td>9.580838</td>\n",
       "      <td>11.564371</td>\n",
       "      <td>16.966068</td>\n",
       "      <td>0</td>\n",
       "      <td>2</td>\n",
       "      <td>1280</td>\n",
       "      <td>720</td>\n",
       "      <td>{'x': 14.595808383233532, 'y': 9.5808383233532...</td>\n",
       "    </tr>\n",
       "    <tr>\n",
       "      <th>4</th>\n",
       "      <td>4</td>\n",
       "      <td>733</td>\n",
       "      <td>1</td>\n",
       "      <td>2023-06-25T20:41:05.709348Z</td>\n",
       "      <td>1128</td>\n",
       "      <td>3618.jpg</td>\n",
       "      <td>{'x': 20.209580838323355, 'y': 10.179640718562...</td>\n",
       "      <td>20.209581</td>\n",
       "      <td>10.179641</td>\n",
       "      <td>12.013473</td>\n",
       "      <td>16.566866</td>\n",
       "      <td>0</td>\n",
       "      <td>2</td>\n",
       "      <td>1280</td>\n",
       "      <td>720</td>\n",
       "      <td>{'x': 20.209580838323355, 'y': 10.179640718562...</td>\n",
       "    </tr>\n",
       "  </tbody>\n",
       "</table>\n",
       "</div>"
      ],
      "text/plain": [
       "   index  annotation_id  annotator                   created_at    id  \\\n",
       "0      0            729          1  2023-06-25T20:40:19.985689Z  1124   \n",
       "1      1            730          1  2023-06-25T20:40:32.894975Z  1125   \n",
       "2      2            731          1  2023-06-25T20:40:45.115771Z  1126   \n",
       "3      3            732          1  2023-06-25T20:40:55.175976Z  1127   \n",
       "4      4            733          1  2023-06-25T20:41:05.709348Z  1128   \n",
       "\n",
       "      image                                              label          x  \\\n",
       "0  3614.jpg  {'x': 1.3473053892215578, 'y': 11.177644710578...   1.347305   \n",
       "1  3615.jpg  {'x': 5.276946107784431, 'y': 11.1776447105788...   5.276946   \n",
       "2  3616.jpg  {'x': 10.66616766467066, 'y': 10.1796407185628...  10.666168   \n",
       "3  3617.jpg  {'x': 14.595808383233532, 'y': 9.5808383233532...  14.595808   \n",
       "4  3618.jpg  {'x': 20.209580838323355, 'y': 10.179640718562...  20.209581   \n",
       "\n",
       "           y      width     height  rotation  rectanglelabels  original_width  \\\n",
       "0  11.177645  10.441617  16.367265         0                2            1280   \n",
       "1  11.177645  10.890719  16.167665         0                2            1280   \n",
       "2  10.179641  11.339820  16.766467         0                2            1280   \n",
       "3   9.580838  11.564371  16.966068         0                2            1280   \n",
       "4  10.179641  12.013473  16.566866         0                2            1280   \n",
       "\n",
       "   original_height                                        label_dicts  \n",
       "0              720  {'x': 1.3473053892215578, 'y': 11.177644710578...  \n",
       "1              720  {'x': 5.276946107784431, 'y': 11.1776447105788...  \n",
       "2              720  {'x': 10.66616766467066, 'y': 10.1796407185628...  \n",
       "3              720  {'x': 14.595808383233532, 'y': 9.5808383233532...  \n",
       "4              720  {'x': 20.209580838323355, 'y': 10.179640718562...  "
      ]
     },
     "execution_count": 23,
     "metadata": {},
     "output_type": "execute_result"
    }
   ],
   "source": [
    "df_exploded.head()"
   ]
  },
  {
   "cell_type": "code",
   "execution_count": 24,
   "metadata": {
    "id": "92qBQ8QkstCx"
   },
   "outputs": [],
   "source": [
    "df_exploded.drop([\"label\",\"label_dicts\"], axis=1, inplace=True)"
   ]
  },
  {
   "cell_type": "code",
   "execution_count": 25,
   "metadata": {
    "id": "Fc73z-ebs9yt"
   },
   "outputs": [],
   "source": [
    "df_exploded['x1'] = df_exploded['x'] + df_exploded['width']\n",
    "df_exploded['y1'] = df_exploded['y'] + df_exploded['height']\n"
   ]
  },
  {
   "cell_type": "code",
   "execution_count": 26,
   "metadata": {
    "colab": {
     "base_uri": "https://localhost:8080/",
     "height": 424
    },
    "id": "ei9jWUovwBku",
    "outputId": "85d784f4-711c-49dd-d41d-f236e861783d"
   },
   "outputs": [],
   "source": [
    "df_exploded = df_exploded.drop_duplicates()"
   ]
  },
  {
   "cell_type": "code",
   "execution_count": 27,
   "metadata": {
    "id": "JCSl1G4gt0o9"
   },
   "outputs": [],
   "source": [
    "df_exploded['x'] = df_exploded['x']*(1280/100)\n",
    "df_exploded['y'] = df_exploded['y']*(720/100)\n",
    "df_exploded['x1'] = df_exploded['x1']*(1280/100)\n",
    "df_exploded['y1'] = df_exploded['y1']*(720/100)"
   ]
  },
  {
   "cell_type": "code",
   "execution_count": 28,
   "metadata": {
    "colab": {
     "base_uri": "https://localhost:8080/",
     "height": 468
    },
    "id": "570f5N7quxX_",
    "outputId": "a1b81074-1d5e-4023-8d11-03dee5234359"
   },
   "outputs": [
    {
     "data": {
      "text/html": [
       "<div>\n",
       "<style scoped>\n",
       "    .dataframe tbody tr th:only-of-type {\n",
       "        vertical-align: middle;\n",
       "    }\n",
       "\n",
       "    .dataframe tbody tr th {\n",
       "        vertical-align: top;\n",
       "    }\n",
       "\n",
       "    .dataframe thead th {\n",
       "        text-align: right;\n",
       "    }\n",
       "</style>\n",
       "<table border=\"1\" class=\"dataframe\">\n",
       "  <thead>\n",
       "    <tr style=\"text-align: right;\">\n",
       "      <th></th>\n",
       "      <th>index</th>\n",
       "      <th>annotation_id</th>\n",
       "      <th>annotator</th>\n",
       "      <th>created_at</th>\n",
       "      <th>id</th>\n",
       "      <th>image</th>\n",
       "      <th>x</th>\n",
       "      <th>y</th>\n",
       "      <th>width</th>\n",
       "      <th>height</th>\n",
       "      <th>rotation</th>\n",
       "      <th>rectanglelabels</th>\n",
       "      <th>original_width</th>\n",
       "      <th>original_height</th>\n",
       "      <th>x1</th>\n",
       "      <th>y1</th>\n",
       "    </tr>\n",
       "  </thead>\n",
       "  <tbody>\n",
       "    <tr>\n",
       "      <th>0</th>\n",
       "      <td>0</td>\n",
       "      <td>729</td>\n",
       "      <td>1</td>\n",
       "      <td>2023-06-25T20:40:19.985689Z</td>\n",
       "      <td>1124</td>\n",
       "      <td>3614.jpg</td>\n",
       "      <td>17.245509</td>\n",
       "      <td>80.479042</td>\n",
       "      <td>10.441617</td>\n",
       "      <td>16.367265</td>\n",
       "      <td>0</td>\n",
       "      <td>2</td>\n",
       "      <td>1280</td>\n",
       "      <td>720</td>\n",
       "      <td>150.898204</td>\n",
       "      <td>198.323353</td>\n",
       "    </tr>\n",
       "    <tr>\n",
       "      <th>1</th>\n",
       "      <td>1</td>\n",
       "      <td>730</td>\n",
       "      <td>1</td>\n",
       "      <td>2023-06-25T20:40:32.894975Z</td>\n",
       "      <td>1125</td>\n",
       "      <td>3615.jpg</td>\n",
       "      <td>67.544910</td>\n",
       "      <td>80.479042</td>\n",
       "      <td>10.890719</td>\n",
       "      <td>16.167665</td>\n",
       "      <td>0</td>\n",
       "      <td>2</td>\n",
       "      <td>1280</td>\n",
       "      <td>720</td>\n",
       "      <td>206.946108</td>\n",
       "      <td>196.886228</td>\n",
       "    </tr>\n",
       "    <tr>\n",
       "      <th>2</th>\n",
       "      <td>2</td>\n",
       "      <td>731</td>\n",
       "      <td>1</td>\n",
       "      <td>2023-06-25T20:40:45.115771Z</td>\n",
       "      <td>1126</td>\n",
       "      <td>3616.jpg</td>\n",
       "      <td>136.526946</td>\n",
       "      <td>73.293413</td>\n",
       "      <td>11.339820</td>\n",
       "      <td>16.766467</td>\n",
       "      <td>0</td>\n",
       "      <td>2</td>\n",
       "      <td>1280</td>\n",
       "      <td>720</td>\n",
       "      <td>281.676647</td>\n",
       "      <td>194.011976</td>\n",
       "    </tr>\n",
       "    <tr>\n",
       "      <th>3</th>\n",
       "      <td>3</td>\n",
       "      <td>732</td>\n",
       "      <td>1</td>\n",
       "      <td>2023-06-25T20:40:55.175976Z</td>\n",
       "      <td>1127</td>\n",
       "      <td>3617.jpg</td>\n",
       "      <td>186.826347</td>\n",
       "      <td>68.982036</td>\n",
       "      <td>11.564371</td>\n",
       "      <td>16.966068</td>\n",
       "      <td>0</td>\n",
       "      <td>2</td>\n",
       "      <td>1280</td>\n",
       "      <td>720</td>\n",
       "      <td>334.850299</td>\n",
       "      <td>191.137725</td>\n",
       "    </tr>\n",
       "    <tr>\n",
       "      <th>4</th>\n",
       "      <td>4</td>\n",
       "      <td>733</td>\n",
       "      <td>1</td>\n",
       "      <td>2023-06-25T20:41:05.709348Z</td>\n",
       "      <td>1128</td>\n",
       "      <td>3618.jpg</td>\n",
       "      <td>258.682635</td>\n",
       "      <td>73.293413</td>\n",
       "      <td>12.013473</td>\n",
       "      <td>16.566866</td>\n",
       "      <td>0</td>\n",
       "      <td>2</td>\n",
       "      <td>1280</td>\n",
       "      <td>720</td>\n",
       "      <td>412.455090</td>\n",
       "      <td>192.574850</td>\n",
       "    </tr>\n",
       "  </tbody>\n",
       "</table>\n",
       "</div>"
      ],
      "text/plain": [
       "   index  annotation_id  annotator                   created_at    id  \\\n",
       "0      0            729          1  2023-06-25T20:40:19.985689Z  1124   \n",
       "1      1            730          1  2023-06-25T20:40:32.894975Z  1125   \n",
       "2      2            731          1  2023-06-25T20:40:45.115771Z  1126   \n",
       "3      3            732          1  2023-06-25T20:40:55.175976Z  1127   \n",
       "4      4            733          1  2023-06-25T20:41:05.709348Z  1128   \n",
       "\n",
       "      image           x          y      width     height  rotation  \\\n",
       "0  3614.jpg   17.245509  80.479042  10.441617  16.367265         0   \n",
       "1  3615.jpg   67.544910  80.479042  10.890719  16.167665         0   \n",
       "2  3616.jpg  136.526946  73.293413  11.339820  16.766467         0   \n",
       "3  3617.jpg  186.826347  68.982036  11.564371  16.966068         0   \n",
       "4  3618.jpg  258.682635  73.293413  12.013473  16.566866         0   \n",
       "\n",
       "   rectanglelabels  original_width  original_height          x1          y1  \n",
       "0                2            1280              720  150.898204  198.323353  \n",
       "1                2            1280              720  206.946108  196.886228  \n",
       "2                2            1280              720  281.676647  194.011976  \n",
       "3                2            1280              720  334.850299  191.137725  \n",
       "4                2            1280              720  412.455090  192.574850  "
      ]
     },
     "execution_count": 28,
     "metadata": {},
     "output_type": "execute_result"
    }
   ],
   "source": [
    "df_exploded.head()"
   ]
  },
  {
   "cell_type": "markdown",
   "metadata": {},
   "source": [
    "Getting a new dataframe and choosing required columns to put in it"
   ]
  },
  {
   "cell_type": "code",
   "execution_count": 29,
   "metadata": {
    "id": "fombDAN3UBx2"
   },
   "outputs": [],
   "source": [
    "new_df = pd.DataFrame()"
   ]
  },
  {
   "cell_type": "code",
   "execution_count": 30,
   "metadata": {
    "id": "SwxKa-eFu2u-"
   },
   "outputs": [],
   "source": [
    "new_df[['image','x','y','x1','y1','labels']] = df_exploded[['image','x','y','x1','y1', 'rectanglelabels']]"
   ]
  },
  {
   "cell_type": "code",
   "execution_count": 31,
   "metadata": {
    "colab": {
     "base_uri": "https://localhost:8080/",
     "height": 424
    },
    "id": "sbKRJSUcUAnK",
    "outputId": "d3659586-c944-4223-f6c7-b238c6ee0b46"
   },
   "outputs": [
    {
     "data": {
      "text/html": [
       "<div>\n",
       "<style scoped>\n",
       "    .dataframe tbody tr th:only-of-type {\n",
       "        vertical-align: middle;\n",
       "    }\n",
       "\n",
       "    .dataframe tbody tr th {\n",
       "        vertical-align: top;\n",
       "    }\n",
       "\n",
       "    .dataframe thead th {\n",
       "        text-align: right;\n",
       "    }\n",
       "</style>\n",
       "<table border=\"1\" class=\"dataframe\">\n",
       "  <thead>\n",
       "    <tr style=\"text-align: right;\">\n",
       "      <th></th>\n",
       "      <th>image</th>\n",
       "      <th>x</th>\n",
       "      <th>y</th>\n",
       "      <th>x1</th>\n",
       "      <th>y1</th>\n",
       "      <th>labels</th>\n",
       "    </tr>\n",
       "  </thead>\n",
       "  <tbody>\n",
       "    <tr>\n",
       "      <th>0</th>\n",
       "      <td>3614.jpg</td>\n",
       "      <td>17.245509</td>\n",
       "      <td>80.479042</td>\n",
       "      <td>150.898204</td>\n",
       "      <td>198.323353</td>\n",
       "      <td>2</td>\n",
       "    </tr>\n",
       "    <tr>\n",
       "      <th>1</th>\n",
       "      <td>3615.jpg</td>\n",
       "      <td>67.544910</td>\n",
       "      <td>80.479042</td>\n",
       "      <td>206.946108</td>\n",
       "      <td>196.886228</td>\n",
       "      <td>2</td>\n",
       "    </tr>\n",
       "    <tr>\n",
       "      <th>2</th>\n",
       "      <td>3616.jpg</td>\n",
       "      <td>136.526946</td>\n",
       "      <td>73.293413</td>\n",
       "      <td>281.676647</td>\n",
       "      <td>194.011976</td>\n",
       "      <td>2</td>\n",
       "    </tr>\n",
       "    <tr>\n",
       "      <th>3</th>\n",
       "      <td>3617.jpg</td>\n",
       "      <td>186.826347</td>\n",
       "      <td>68.982036</td>\n",
       "      <td>334.850299</td>\n",
       "      <td>191.137725</td>\n",
       "      <td>2</td>\n",
       "    </tr>\n",
       "    <tr>\n",
       "      <th>4</th>\n",
       "      <td>3618.jpg</td>\n",
       "      <td>258.682635</td>\n",
       "      <td>73.293413</td>\n",
       "      <td>412.455090</td>\n",
       "      <td>192.574850</td>\n",
       "      <td>2</td>\n",
       "    </tr>\n",
       "  </tbody>\n",
       "</table>\n",
       "</div>"
      ],
      "text/plain": [
       "      image           x          y          x1          y1  labels\n",
       "0  3614.jpg   17.245509  80.479042  150.898204  198.323353       2\n",
       "1  3615.jpg   67.544910  80.479042  206.946108  196.886228       2\n",
       "2  3616.jpg  136.526946  73.293413  281.676647  194.011976       2\n",
       "3  3617.jpg  186.826347  68.982036  334.850299  191.137725       2\n",
       "4  3618.jpg  258.682635  73.293413  412.455090  192.574850       2"
      ]
     },
     "execution_count": 31,
     "metadata": {},
     "output_type": "execute_result"
    }
   ],
   "source": [
    "new_df.head()"
   ]
  },
  {
   "cell_type": "code",
   "execution_count": 32,
   "metadata": {},
   "outputs": [
    {
     "data": {
      "text/plain": [
       "image     0\n",
       "x         0\n",
       "y         0\n",
       "x1        0\n",
       "y1        0\n",
       "labels    0\n",
       "dtype: int64"
      ]
     },
     "execution_count": 32,
     "metadata": {},
     "output_type": "execute_result"
    }
   ],
   "source": [
    "new_df.isna().sum()"
   ]
  },
  {
   "cell_type": "markdown",
   "metadata": {},
   "source": [
    "Renaming variables to convey meaning"
   ]
  },
  {
   "cell_type": "code",
   "execution_count": 33,
   "metadata": {},
   "outputs": [
    {
     "name": "stdout",
     "output_type": "stream",
     "text": [
      "['3614.jpg' '3615.jpg' '3616.jpg' '3617.jpg' '3618.jpg' '3619.jpg'\n",
      " '3620.jpg' '3621.jpg' '3622.jpg' '3623.jpg' '3624.jpg' '3627.jpg'\n",
      " '3628.jpg' '3629.jpg' '3630.jpg' '3631.jpg' '3632.jpg' '3747.jpg'\n",
      " '3748.jpg' '3749.jpg' '3750.jpg' '3751.jpg' '3752.jpg' '3760.jpg'\n",
      " '3772.jpg' '3774.jpg' '3775.jpg' '3777.jpg' '3779.jpg' '3783.jpg'\n",
      " '3793.jpg' '3795.jpg' '3798.jpg' '3801.jpg' '3803.jpg' '3832.jpg'\n",
      " '3840.jpg' '3847.jpg' '3865.jpg' '3866.jpg' '657.jpg' '658.jpg' '660.jpg'\n",
      " '661.jpg' '662.jpg' '667.jpg' '668.jpg' '669.jpg' '670.jpg' '673.jpg'\n",
      " '674.jpg' '675.jpg' '676.jpg' '678.jpg' '680.jpg' '682.jpg' '692.jpg'\n",
      " '694.jpg' '697.jpg' '700.jpg' '708.jpg' '710.jpg' '734.jpg' '735.jpg'\n",
      " '737.jpg' '744.jpg' '751.jpg' '754.jpg' '757.jpg' '762.jpg' '763.jpg'\n",
      " '764.jpg' '765.jpg' '766.jpg' '767.jpg' '769.jpg' '770.jpg' '771.jpg'\n",
      " '772.jpg' '776.jpg' '778.jpg' '779.jpg' '780.jpg' '781.jpg' '782.jpg'\n",
      " '783.jpg' '784.jpg' '785.jpg' '786.jpg' '788.jpg' '790.jpg' '810.jpg'\n",
      " '811.jpg' '812.jpg' '813.jpg' '931.jpg' '932.jpg' '933.jpg' '945.jpg'\n",
      " '946.jpg' '947.jpg' '948.jpg' '949.jpg' '950.jpg' '951.jpg' '952.jpg'\n",
      " '953.jpg']\n",
      "[  17.24550898   67.54491018  136.52694611  186.82634731  258.68263473\n",
      "  333.41317365  431.13772455  461.31736527  494.37125749  490.05988024\n",
      "  492.93413174  504.43113772  547.54491018  592.09580838  600.71856287\n",
      "  592.09580838  613.65269461  682.63473054   15.80838323  658.20196666\n",
      "    0.          651.01796407  636.64670659  655.33096747  671.13772455\n",
      "  702.75449102  662.51497006  632.33478729  620.83832335  616.52694611\n",
      "  610.77844311  593.53239208  607.90419162  605.02994012  593.53293413\n",
      "  589.22155689  561.91616766   10.05988024   64.67065868  750.17964072\n",
      "  663.95209581  227.06586826  774.61077844  740.11976048  800.47904192\n",
      "   58.92323979  924.07185629  560.47904192  343.47468004  868.0239521\n",
      " 1218.68263473  426.82797346  951.37778756  419.64234471  947.06749441\n",
      "  418.20413486  945.62874251  419.64180266  947.06641031  445.50952409\n",
      "  975.80946733  577.7245509  1106.58682635  615.09198856 1141.07838636\n",
      "  639.52095808 1178.44419787  636.64670659 1187.06749441 1195.68970685\n",
      " 1212.93413174  630.89820359 1224.43113772  638.08383234  635.20958084\n",
      "  708.50299401  620.83832335  612.21556886  622.2754491   626.58682635\n",
      "  571.9760479  1136.76646707  865.1497006   968.62275449  685.50898204\n",
      "  686.94664983  390.89711949  688.38323353  390.89820359  643.83233533\n",
      "  313.29341317  606.46706587  219.88023952  619.4011976   615.08982036\n",
      "  583.47413799  648.14371257  658.20521896  629.46107784  629.46107784\n",
      "  613.65269461  615.08982036  610.77844311  612.21502681  589.22155689\n",
      "  564.79041916  560.47904192  594.97005988  594.97005988  590.65868263\n",
      "  593.53293413  574.8502994   541.79640719  540.35928144  510.17964072\n",
      "  626.58682635  679.76047904  694.13173653  655.32934132  668.2640151\n",
      "  678.32335329  668.2640151 ]\n",
      "[ 80.47904192  73.29341317  68.98203593  66.10778443  60.35928144\n",
      "  38.80239521  48.86227545  40.23952096  37.36526946  17.24550898\n",
      "  12.93413174   0.         159.52095808 198.32335329 168.14371257\n",
      " 202.63473054 163.83233533 163.83233533 163.83233533 156.64670659\n",
      " 149.46107784 130.77844311 129.34131737 127.90419162 122.15568862\n",
      "  99.16167665  91.9760479   70.41916168  64.67065868  30.17964072\n",
      "  10.05988024 186.82634731 186.82634731 208.38323353 194.01197605\n",
      " 178.20359281 181.07784431 201.19760479 114.97005988 196.88622754\n",
      " 166.70658683 123.59281437 163.83233533 199.76047904 169.58083832\n",
      " 165.26946108 122.15568862 160.95808383 120.71856287  97.7245509\n",
      " 136.52694611 112.09580838 156.64670659 113.53293413 156.64670659\n",
      " 114.97005988 156.64670659 168.14371257  94.8502994  145.1497006\n",
      "  84.79041916 142.2754491   80.47904192  61.79640719  47.4251497\n",
      "  12.93413174   7.18562874 195.4491018   60.35928144 194.01197605\n",
      " 178.20359281  37.36526946 159.52095808 142.2754491  137.96407186\n",
      " 135.08982036 133.65269461 122.15568862 126.46706587 110.65868263\n",
      " 102.03592814  96.28742515  87.66467066  81.91616766  58.92215569\n",
      "  56.04790419  56.04790419  54.61077844  50.2994012   22.99401198\n",
      "   8.62275449 162.39520958 146.58682635 153.77245509 148.0239521\n",
      " 132.21556886 126.46706587]\n",
      "[ 150.89820359  206.94610778  281.67664671  334.8502994   412.45508982\n",
      "  491.49700599  599.28143713  630.89820359  672.5748503   666.82634731\n",
      "  668.26347305  679.76047904  730.05988024  787.54491018  799.04191617\n",
      "  799.04083207  822.03592814  767.4251497    63.23353293  744.43113772\n",
      "   35.92814371  737.24550898  727.18562874  742.99292788  763.11377246\n",
      "  809.10179641  777.48502994  753.05389222  744.43113772  745.86826347\n",
      "  748.74251497  738.68263473  765.98693985  771.7349008   786.10778443\n",
      "  799.04191617   83.35329341  136.52694611  829.22155689  707.06586826\n",
      "  277.36526946  855.08982036  823.47305389  859.4011976   168.14371257\n",
      "  978.68263473  607.90581777  457.00598802  915.4491018  1271.85628743\n",
      "  544.67065868 1000.23952096  537.48502994  995.92814371  536.04790419\n",
      "  993.05389222  538.92215569  995.92814371  564.79041916 1024.67065868\n",
      "  699.88023952 1154.01197605  734.37125749 1189.94011976  770.2994012\n",
      " 1230.17964072  764.5508982  1237.36526946 1245.98802395 1270.41916168\n",
      " 1280.          791.85628743  788.98203593  717.1257485   783.23353293\n",
      "  819.16167665  836.40447538  800.47904192 1210.05988024 1030.40832068\n",
      " 1041.91616766  853.65269461  770.2994012   560.47904192  771.73652695\n",
      "  560.47904192  498.68263473  699.87915542  418.20359281  720.\n",
      "  712.81437126  717.1257485   686.94610778  718.56287425  751.61676647\n",
      "  767.4251497   750.17909867  750.17964072  735.80838323  741.55688623\n",
      "  725.74850299  744.43113772  738.68263473  768.86227545  770.29885915\n",
      "  768.86227545  768.86227545  728.62167039  721.43712575  778.92215569\n",
      "  794.73053892  755.92814371  776.04790419  796.16766467  787.54491018]\n",
      "[198.32335329 196.88622754 194.01197605 191.13772455 192.5748503\n",
      " 194.01197605 188.26347305 171.01796407 179.64071856 171.01796407\n",
      " 173.89221557 159.52095808 160.95808383 156.64670659 145.1497006\n",
      " 224.19161677 251.49700599 232.81437126 254.37125749 229.94011976\n",
      " 232.81437126 227.06586826 231.37724551 218.44311377 222.75449102\n",
      " 222.75449102 221.31736527 202.63473054 201.19760479 186.82634731\n",
      " 189.7005988  168.14371257 163.83233533 143.71257485 254.37125749\n",
      " 257.24550898 250.05988024 241.43712575 247.18562874 204.07185629\n",
      " 248.62275449 234.25149701 212.69461078 235.68862275 218.44311377\n",
      " 244.31137725 214.13173653 237.1257485  214.13173653 237.1257485\n",
      " 208.38323353 238.56287425 188.26347305 215.56886228 204.07185629\n",
      " 232.81437126 204.07185629 205.50898204 238.56287425 211.25748503\n",
      " 240.         214.13173653 195.4491018  234.25149701 194.01197605\n",
      " 194.01197605  76.16766467 176.76646707 172.45508982 158.08383234\n",
      " 150.89820359 137.96407186 260.11976048 204.07185629 262.99401198\n",
      " 202.63473054 248.62275449 245.74850299 181.07784431 156.64670659\n",
      " 142.2754491  225.62874251 215.56886228 218.44311377 217.00598802\n",
      " 212.69461078 208.38323353 211.25748503 206.94610778 198.32335329\n",
      " 204.07185629 202.63473054 199.76047904 185.38922156 182.51497006\n",
      " 152.33532934 149.46107784 228.50299401 215.56886228 218.44311377]\n",
      "[2 1 0]\n"
     ]
    }
   ],
   "source": [
    "print(new_df.image.unique())\n",
    "print(new_df.x.unique())\n",
    "print(new_df.y.unique())\n",
    "print(new_df.x1.unique())\n",
    "print(new_df.y1.unique())\n",
    "print(new_df.labels.unique())"
   ]
  },
  {
   "cell_type": "code",
   "execution_count": 34,
   "metadata": {},
   "outputs": [],
   "source": [
    "new_df.rename(columns={\"x\":\"x_min\",\"y\":\"y_min\", \"x1\":\"x_max\", \"y1\":\"y_max\"}, inplace=True)"
   ]
  },
  {
   "cell_type": "code",
   "execution_count": 35,
   "metadata": {},
   "outputs": [
    {
     "data": {
      "text/html": [
       "<div>\n",
       "<style scoped>\n",
       "    .dataframe tbody tr th:only-of-type {\n",
       "        vertical-align: middle;\n",
       "    }\n",
       "\n",
       "    .dataframe tbody tr th {\n",
       "        vertical-align: top;\n",
       "    }\n",
       "\n",
       "    .dataframe thead th {\n",
       "        text-align: right;\n",
       "    }\n",
       "</style>\n",
       "<table border=\"1\" class=\"dataframe\">\n",
       "  <thead>\n",
       "    <tr style=\"text-align: right;\">\n",
       "      <th></th>\n",
       "      <th>image</th>\n",
       "      <th>x_min</th>\n",
       "      <th>y_min</th>\n",
       "      <th>x_max</th>\n",
       "      <th>y_max</th>\n",
       "      <th>labels</th>\n",
       "    </tr>\n",
       "  </thead>\n",
       "  <tbody>\n",
       "    <tr>\n",
       "      <th>0</th>\n",
       "      <td>3614.jpg</td>\n",
       "      <td>17.245509</td>\n",
       "      <td>80.479042</td>\n",
       "      <td>150.898204</td>\n",
       "      <td>198.323353</td>\n",
       "      <td>2</td>\n",
       "    </tr>\n",
       "    <tr>\n",
       "      <th>1</th>\n",
       "      <td>3615.jpg</td>\n",
       "      <td>67.544910</td>\n",
       "      <td>80.479042</td>\n",
       "      <td>206.946108</td>\n",
       "      <td>196.886228</td>\n",
       "      <td>2</td>\n",
       "    </tr>\n",
       "    <tr>\n",
       "      <th>2</th>\n",
       "      <td>3616.jpg</td>\n",
       "      <td>136.526946</td>\n",
       "      <td>73.293413</td>\n",
       "      <td>281.676647</td>\n",
       "      <td>194.011976</td>\n",
       "      <td>2</td>\n",
       "    </tr>\n",
       "    <tr>\n",
       "      <th>3</th>\n",
       "      <td>3617.jpg</td>\n",
       "      <td>186.826347</td>\n",
       "      <td>68.982036</td>\n",
       "      <td>334.850299</td>\n",
       "      <td>191.137725</td>\n",
       "      <td>2</td>\n",
       "    </tr>\n",
       "    <tr>\n",
       "      <th>4</th>\n",
       "      <td>3618.jpg</td>\n",
       "      <td>258.682635</td>\n",
       "      <td>73.293413</td>\n",
       "      <td>412.455090</td>\n",
       "      <td>192.574850</td>\n",
       "      <td>2</td>\n",
       "    </tr>\n",
       "    <tr>\n",
       "      <th>...</th>\n",
       "      <td>...</td>\n",
       "      <td>...</td>\n",
       "      <td>...</td>\n",
       "      <td>...</td>\n",
       "      <td>...</td>\n",
       "      <td>...</td>\n",
       "    </tr>\n",
       "    <tr>\n",
       "      <th>129</th>\n",
       "      <td>949.jpg</td>\n",
       "      <td>668.264015</td>\n",
       "      <td>136.526946</td>\n",
       "      <td>776.047904</td>\n",
       "      <td>218.443114</td>\n",
       "      <td>2</td>\n",
       "    </tr>\n",
       "    <tr>\n",
       "      <th>130</th>\n",
       "      <td>950.jpg</td>\n",
       "      <td>639.520958</td>\n",
       "      <td>130.778443</td>\n",
       "      <td>748.742515</td>\n",
       "      <td>215.568862</td>\n",
       "      <td>2</td>\n",
       "    </tr>\n",
       "    <tr>\n",
       "      <th>131</th>\n",
       "      <td>951.jpg</td>\n",
       "      <td>639.520958</td>\n",
       "      <td>145.149701</td>\n",
       "      <td>750.179641</td>\n",
       "      <td>232.814371</td>\n",
       "      <td>2</td>\n",
       "    </tr>\n",
       "    <tr>\n",
       "      <th>132</th>\n",
       "      <td>952.jpg</td>\n",
       "      <td>678.323353</td>\n",
       "      <td>132.215569</td>\n",
       "      <td>796.167665</td>\n",
       "      <td>221.317365</td>\n",
       "      <td>2</td>\n",
       "    </tr>\n",
       "    <tr>\n",
       "      <th>133</th>\n",
       "      <td>953.jpg</td>\n",
       "      <td>668.264015</td>\n",
       "      <td>126.467066</td>\n",
       "      <td>787.544910</td>\n",
       "      <td>218.443114</td>\n",
       "      <td>2</td>\n",
       "    </tr>\n",
       "  </tbody>\n",
       "</table>\n",
       "<p>134 rows × 6 columns</p>\n",
       "</div>"
      ],
      "text/plain": [
       "        image       x_min       y_min       x_max       y_max  labels\n",
       "0    3614.jpg   17.245509   80.479042  150.898204  198.323353       2\n",
       "1    3615.jpg   67.544910   80.479042  206.946108  196.886228       2\n",
       "2    3616.jpg  136.526946   73.293413  281.676647  194.011976       2\n",
       "3    3617.jpg  186.826347   68.982036  334.850299  191.137725       2\n",
       "4    3618.jpg  258.682635   73.293413  412.455090  192.574850       2\n",
       "..        ...         ...         ...         ...         ...     ...\n",
       "129   949.jpg  668.264015  136.526946  776.047904  218.443114       2\n",
       "130   950.jpg  639.520958  130.778443  748.742515  215.568862       2\n",
       "131   951.jpg  639.520958  145.149701  750.179641  232.814371       2\n",
       "132   952.jpg  678.323353  132.215569  796.167665  221.317365       2\n",
       "133   953.jpg  668.264015  126.467066  787.544910  218.443114       2\n",
       "\n",
       "[134 rows x 6 columns]"
      ]
     },
     "execution_count": 35,
     "metadata": {},
     "output_type": "execute_result"
    }
   ],
   "source": [
    "new_df"
   ]
  },
  {
   "cell_type": "markdown",
   "metadata": {},
   "source": [
    "Normalizing columns"
   ]
  },
  {
   "cell_type": "code",
   "execution_count": 36,
   "metadata": {
    "id": "3ka1Ke4IU5Mz"
   },
   "outputs": [],
   "source": [
    "new_df.x_min = round(new_df.x_min/1280, 6)\n",
    "new_df.y_min = round(new_df.y_min/720, 6)\n",
    "new_df.x_max = round(new_df.x_max/1280, 6)\n",
    "new_df.y_max = round(new_df.y_max/720, 6)"
   ]
  },
  {
   "cell_type": "code",
   "execution_count": 37,
   "metadata": {},
   "outputs": [
    {
     "data": {
      "text/html": [
       "<div>\n",
       "<style scoped>\n",
       "    .dataframe tbody tr th:only-of-type {\n",
       "        vertical-align: middle;\n",
       "    }\n",
       "\n",
       "    .dataframe tbody tr th {\n",
       "        vertical-align: top;\n",
       "    }\n",
       "\n",
       "    .dataframe thead th {\n",
       "        text-align: right;\n",
       "    }\n",
       "</style>\n",
       "<table border=\"1\" class=\"dataframe\">\n",
       "  <thead>\n",
       "    <tr style=\"text-align: right;\">\n",
       "      <th></th>\n",
       "      <th>image</th>\n",
       "      <th>x_min</th>\n",
       "      <th>y_min</th>\n",
       "      <th>x_max</th>\n",
       "      <th>y_max</th>\n",
       "      <th>labels</th>\n",
       "    </tr>\n",
       "  </thead>\n",
       "  <tbody>\n",
       "    <tr>\n",
       "      <th>0</th>\n",
       "      <td>3614.jpg</td>\n",
       "      <td>0.013473</td>\n",
       "      <td>0.111776</td>\n",
       "      <td>0.117889</td>\n",
       "      <td>0.275449</td>\n",
       "      <td>2</td>\n",
       "    </tr>\n",
       "    <tr>\n",
       "      <th>1</th>\n",
       "      <td>3615.jpg</td>\n",
       "      <td>0.052769</td>\n",
       "      <td>0.111776</td>\n",
       "      <td>0.161677</td>\n",
       "      <td>0.273453</td>\n",
       "      <td>2</td>\n",
       "    </tr>\n",
       "    <tr>\n",
       "      <th>2</th>\n",
       "      <td>3616.jpg</td>\n",
       "      <td>0.106662</td>\n",
       "      <td>0.101796</td>\n",
       "      <td>0.220060</td>\n",
       "      <td>0.269461</td>\n",
       "      <td>2</td>\n",
       "    </tr>\n",
       "    <tr>\n",
       "      <th>3</th>\n",
       "      <td>3617.jpg</td>\n",
       "      <td>0.145958</td>\n",
       "      <td>0.095808</td>\n",
       "      <td>0.261602</td>\n",
       "      <td>0.265469</td>\n",
       "      <td>2</td>\n",
       "    </tr>\n",
       "    <tr>\n",
       "      <th>4</th>\n",
       "      <td>3618.jpg</td>\n",
       "      <td>0.202096</td>\n",
       "      <td>0.101796</td>\n",
       "      <td>0.322231</td>\n",
       "      <td>0.267465</td>\n",
       "      <td>2</td>\n",
       "    </tr>\n",
       "  </tbody>\n",
       "</table>\n",
       "</div>"
      ],
      "text/plain": [
       "      image     x_min     y_min     x_max     y_max  labels\n",
       "0  3614.jpg  0.013473  0.111776  0.117889  0.275449       2\n",
       "1  3615.jpg  0.052769  0.111776  0.161677  0.273453       2\n",
       "2  3616.jpg  0.106662  0.101796  0.220060  0.269461       2\n",
       "3  3617.jpg  0.145958  0.095808  0.261602  0.265469       2\n",
       "4  3618.jpg  0.202096  0.101796  0.322231  0.267465       2"
      ]
     },
     "execution_count": 37,
     "metadata": {},
     "output_type": "execute_result"
    }
   ],
   "source": [
    "new_df.head()"
   ]
  },
  {
   "cell_type": "markdown",
   "metadata": {},
   "source": [
    "Creating Training, Validation, and Testing dataset"
   ]
  },
  {
   "cell_type": "code",
   "execution_count": 38,
   "metadata": {},
   "outputs": [],
   "source": [
    "dup_new_df = new_df[[\"image\", \"labels\"]].copy()"
   ]
  },
  {
   "cell_type": "code",
   "execution_count": 39,
   "metadata": {},
   "outputs": [],
   "source": [
    "dup_new_df = dup_new_df.drop_duplicates()"
   ]
  },
  {
   "cell_type": "code",
   "execution_count": 40,
   "metadata": {},
   "outputs": [],
   "source": [
    "X=dup_new_df[\"image\"]\n",
    "y=dup_new_df[\"labels\"]"
   ]
  },
  {
   "cell_type": "markdown",
   "metadata": {},
   "source": [
    "Stratifying Sampling"
   ]
  },
  {
   "cell_type": "code",
   "execution_count": 41,
   "metadata": {},
   "outputs": [],
   "source": [
    "X_train_val, X_test, y_train_val, y_test = train_test_split(X, y, test_size=0.2, random_state=42, stratify=y)"
   ]
  },
  {
   "cell_type": "markdown",
   "metadata": {},
   "source": [
    "Checking if stratified sampling distributed each class properly"
   ]
  },
  {
   "cell_type": "code",
   "execution_count": 42,
   "metadata": {},
   "outputs": [
    {
     "data": {
      "text/plain": [
       "array([ 5,  9, 12, 16, 17, 23])"
      ]
     },
     "execution_count": 42,
     "metadata": {},
     "output_type": "execute_result"
    }
   ],
   "source": [
    "redundant_item_idx = np.nonzero(np.in1d(X_test.values, X_train_val.values))[0]\n",
    "redundant_item_idx"
   ]
  },
  {
   "cell_type": "code",
   "execution_count": 43,
   "metadata": {},
   "outputs": [],
   "source": [
    "X_test = np.delete(X_test, redundant_item_idx)\n",
    "y_test = np.delete(y_test, redundant_item_idx)\n",
    "X_test = pd.Series(X_test)\n",
    "y_test = pd.Series(y_test)"
   ]
  },
  {
   "cell_type": "code",
   "execution_count": 44,
   "metadata": {
    "scrolled": true
   },
   "outputs": [],
   "source": [
    "X_train, X_val, y_train, y_val = train_test_split(X_train_val, y_train_val, test_size=0.2, random_state=42, stratify=y_train_val)"
   ]
  },
  {
   "cell_type": "code",
   "execution_count": 45,
   "metadata": {},
   "outputs": [],
   "source": [
    "redundant_item_idx = np.nonzero(np.in1d(X_val, X_train))[0]\n",
    "redundant_item_idx\n",
    "X_val = np.delete(X_val, redundant_item_idx)\n",
    "X_val = pd.Series(X_val)\n",
    "y_val = np.delete(y_val, redundant_item_idx)\n",
    "y_val = pd.Series(y_val)"
   ]
  },
  {
   "cell_type": "markdown",
   "metadata": {},
   "source": [
    "make test, validation, and test directories in your \"/scratch/sshrestha8/Workshop/Day4\" folder\n",
    "making train, validation, test sub files and directories, we are going to transfer data in those directories"
   ]
  },
  {
   "cell_type": "code",
   "execution_count": 46,
   "metadata": {},
   "outputs": [],
   "source": [
    "parent_dir = \"/scratch/sshrestha8/Workshop/Day4/data/\"\n",
    "source_dir = \"/scratch/sshrestha8/Workshop/Day4/data/all_images\"\n",
    "all_files = os.listdir(source_dir)"
   ]
  },
  {
   "cell_type": "code",
   "execution_count": 47,
   "metadata": {},
   "outputs": [],
   "source": [
    "def get_train_val_test_files(source_dir, destination_dir,  all_files, operating_dir):\n",
    "    for image in operating_dir:\n",
    "        if image in all_files:\n",
    "            shutil.copy(os.path.join(source_dir,image) , destination_dir)"
   ]
  },
  {
   "cell_type": "markdown",
   "metadata": {},
   "source": [
    "copy train, val, test images to respective directories "
   ]
  },
  {
   "cell_type": "code",
   "execution_count": 48,
   "metadata": {},
   "outputs": [
    {
     "name": "stdout",
     "output_type": "stream",
     "text": [
      "os.path.isdir(train_images_folder) False\n",
      "making\n"
     ]
    }
   ],
   "source": [
    "train_images_folder = os.path.join(parent_dir, \"train\")\n",
    "if not os.path.isdir(train_images_folder):\n",
    "    print(\"os.path.isdir(train_images_folder)\", os.path.isdir(train_images_folder))\n",
    "    print(\"making\")\n",
    "    os.mkdir(train_images_folder)\n",
    "validation_images_folder = os.path.join(parent_dir, \"validation\")\n",
    "if not os.path.isdir(validation_images_folder):\n",
    "    os.mkdir(validation_images_folder)\n",
    "test_images_folder = os.path.join(parent_dir, \"test\")\n",
    "if not os.path.isdir(test_images_folder):\n",
    "    os.mkdir(test_images_folder)"
   ]
  },
  {
   "cell_type": "code",
   "execution_count": 49,
   "metadata": {},
   "outputs": [
    {
     "data": {
      "text/plain": [
       "'/scratch/sshrestha8/Workshop/Day4/data/train'"
      ]
     },
     "execution_count": 49,
     "metadata": {},
     "output_type": "execute_result"
    }
   ],
   "source": [
    "train_images_folder"
   ]
  },
  {
   "cell_type": "code",
   "execution_count": 50,
   "metadata": {},
   "outputs": [],
   "source": [
    "train_destination_dir = \"/scratch/sshrestha8/Workshop/Day4/data/train\"\n",
    "get_train_val_test_files(source_dir, train_destination_dir,  all_files, operating_dir=X_train)\n",
    "train_images = os.listdir(train_destination_dir)"
   ]
  },
  {
   "cell_type": "code",
   "execution_count": 51,
   "metadata": {},
   "outputs": [],
   "source": [
    "val_destination_dir = \"/scratch/sshrestha8/Workshop/Day4/data/validation/\"\n",
    "get_train_val_test_files(source_dir, val_destination_dir,  all_files, operating_dir=X_val)\n",
    "val_images = os.listdir(val_destination_dir)"
   ]
  },
  {
   "cell_type": "code",
   "execution_count": 52,
   "metadata": {},
   "outputs": [],
   "source": [
    "test_destination_dir = \"/scratch/sshrestha8/Workshop/Day4/data/test/\"\n",
    "get_train_val_test_files(source_dir, test_destination_dir,  all_files, operating_dir=X_test)\n",
    "test_images = os.listdir(test_destination_dir)"
   ]
  },
  {
   "cell_type": "code",
   "execution_count": 53,
   "metadata": {},
   "outputs": [
    {
     "data": {
      "text/plain": [
       "(71, 17, 19)"
      ]
     },
     "execution_count": 53,
     "metadata": {},
     "output_type": "execute_result"
    }
   ],
   "source": [
    "len(train_images), len(val_images), len(test_images)"
   ]
  },
  {
   "cell_type": "markdown",
   "metadata": {},
   "source": [
    "making train, val, and test csv filems"
   ]
  },
  {
   "cell_type": "code",
   "execution_count": 54,
   "metadata": {},
   "outputs": [
    {
     "data": {
      "text/html": [
       "<div>\n",
       "<style scoped>\n",
       "    .dataframe tbody tr th:only-of-type {\n",
       "        vertical-align: middle;\n",
       "    }\n",
       "\n",
       "    .dataframe tbody tr th {\n",
       "        vertical-align: top;\n",
       "    }\n",
       "\n",
       "    .dataframe thead th {\n",
       "        text-align: right;\n",
       "    }\n",
       "</style>\n",
       "<table border=\"1\" class=\"dataframe\">\n",
       "  <thead>\n",
       "    <tr style=\"text-align: right;\">\n",
       "      <th></th>\n",
       "      <th>image</th>\n",
       "      <th>x_min</th>\n",
       "      <th>y_min</th>\n",
       "      <th>x_max</th>\n",
       "      <th>y_max</th>\n",
       "      <th>labels</th>\n",
       "    </tr>\n",
       "  </thead>\n",
       "  <tbody>\n",
       "    <tr>\n",
       "      <th>0</th>\n",
       "      <td>3614.jpg</td>\n",
       "      <td>0.013473</td>\n",
       "      <td>0.111776</td>\n",
       "      <td>0.117889</td>\n",
       "      <td>0.275449</td>\n",
       "      <td>2</td>\n",
       "    </tr>\n",
       "    <tr>\n",
       "      <th>1</th>\n",
       "      <td>3615.jpg</td>\n",
       "      <td>0.052769</td>\n",
       "      <td>0.111776</td>\n",
       "      <td>0.161677</td>\n",
       "      <td>0.273453</td>\n",
       "      <td>2</td>\n",
       "    </tr>\n",
       "    <tr>\n",
       "      <th>2</th>\n",
       "      <td>3616.jpg</td>\n",
       "      <td>0.106662</td>\n",
       "      <td>0.101796</td>\n",
       "      <td>0.220060</td>\n",
       "      <td>0.269461</td>\n",
       "      <td>2</td>\n",
       "    </tr>\n",
       "    <tr>\n",
       "      <th>3</th>\n",
       "      <td>3617.jpg</td>\n",
       "      <td>0.145958</td>\n",
       "      <td>0.095808</td>\n",
       "      <td>0.261602</td>\n",
       "      <td>0.265469</td>\n",
       "      <td>2</td>\n",
       "    </tr>\n",
       "    <tr>\n",
       "      <th>4</th>\n",
       "      <td>3618.jpg</td>\n",
       "      <td>0.202096</td>\n",
       "      <td>0.101796</td>\n",
       "      <td>0.322231</td>\n",
       "      <td>0.267465</td>\n",
       "      <td>2</td>\n",
       "    </tr>\n",
       "  </tbody>\n",
       "</table>\n",
       "</div>"
      ],
      "text/plain": [
       "      image     x_min     y_min     x_max     y_max  labels\n",
       "0  3614.jpg  0.013473  0.111776  0.117889  0.275449       2\n",
       "1  3615.jpg  0.052769  0.111776  0.161677  0.273453       2\n",
       "2  3616.jpg  0.106662  0.101796  0.220060  0.269461       2\n",
       "3  3617.jpg  0.145958  0.095808  0.261602  0.265469       2\n",
       "4  3618.jpg  0.202096  0.101796  0.322231  0.267465       2"
      ]
     },
     "execution_count": 54,
     "metadata": {},
     "output_type": "execute_result"
    }
   ],
   "source": [
    "new_df.head()"
   ]
  },
  {
   "cell_type": "code",
   "execution_count": 55,
   "metadata": {},
   "outputs": [],
   "source": [
    "new_df = new_df.rename(columns={\"image\":\"ImageID\", \"x_min\":\"XMin\", \"y_min\":\"YMin\", \"x_max\": \"XMax\", \"y_max\":\"YMax\"})"
   ]
  },
  {
   "cell_type": "code",
   "execution_count": 56,
   "metadata": {},
   "outputs": [
    {
     "data": {
      "text/html": [
       "<div>\n",
       "<style scoped>\n",
       "    .dataframe tbody tr th:only-of-type {\n",
       "        vertical-align: middle;\n",
       "    }\n",
       "\n",
       "    .dataframe tbody tr th {\n",
       "        vertical-align: top;\n",
       "    }\n",
       "\n",
       "    .dataframe thead th {\n",
       "        text-align: right;\n",
       "    }\n",
       "</style>\n",
       "<table border=\"1\" class=\"dataframe\">\n",
       "  <thead>\n",
       "    <tr style=\"text-align: right;\">\n",
       "      <th></th>\n",
       "      <th>ImageID</th>\n",
       "      <th>XMin</th>\n",
       "      <th>YMin</th>\n",
       "      <th>XMax</th>\n",
       "      <th>YMax</th>\n",
       "      <th>labels</th>\n",
       "    </tr>\n",
       "  </thead>\n",
       "  <tbody>\n",
       "    <tr>\n",
       "      <th>0</th>\n",
       "      <td>3614.jpg</td>\n",
       "      <td>0.013473</td>\n",
       "      <td>0.111776</td>\n",
       "      <td>0.117889</td>\n",
       "      <td>0.275449</td>\n",
       "      <td>2</td>\n",
       "    </tr>\n",
       "    <tr>\n",
       "      <th>1</th>\n",
       "      <td>3615.jpg</td>\n",
       "      <td>0.052769</td>\n",
       "      <td>0.111776</td>\n",
       "      <td>0.161677</td>\n",
       "      <td>0.273453</td>\n",
       "      <td>2</td>\n",
       "    </tr>\n",
       "    <tr>\n",
       "      <th>2</th>\n",
       "      <td>3616.jpg</td>\n",
       "      <td>0.106662</td>\n",
       "      <td>0.101796</td>\n",
       "      <td>0.220060</td>\n",
       "      <td>0.269461</td>\n",
       "      <td>2</td>\n",
       "    </tr>\n",
       "    <tr>\n",
       "      <th>3</th>\n",
       "      <td>3617.jpg</td>\n",
       "      <td>0.145958</td>\n",
       "      <td>0.095808</td>\n",
       "      <td>0.261602</td>\n",
       "      <td>0.265469</td>\n",
       "      <td>2</td>\n",
       "    </tr>\n",
       "    <tr>\n",
       "      <th>4</th>\n",
       "      <td>3618.jpg</td>\n",
       "      <td>0.202096</td>\n",
       "      <td>0.101796</td>\n",
       "      <td>0.322231</td>\n",
       "      <td>0.267465</td>\n",
       "      <td>2</td>\n",
       "    </tr>\n",
       "  </tbody>\n",
       "</table>\n",
       "</div>"
      ],
      "text/plain": [
       "    ImageID      XMin      YMin      XMax      YMax  labels\n",
       "0  3614.jpg  0.013473  0.111776  0.117889  0.275449       2\n",
       "1  3615.jpg  0.052769  0.111776  0.161677  0.273453       2\n",
       "2  3616.jpg  0.106662  0.101796  0.220060  0.269461       2\n",
       "3  3617.jpg  0.145958  0.095808  0.261602  0.265469       2\n",
       "4  3618.jpg  0.202096  0.101796  0.322231  0.267465       2"
      ]
     },
     "execution_count": 56,
     "metadata": {},
     "output_type": "execute_result"
    }
   ],
   "source": [
    "new_df.head()"
   ]
  },
  {
   "cell_type": "code",
   "execution_count": 57,
   "metadata": {},
   "outputs": [],
   "source": [
    "def get_particular_csv(df_sub, new_df):\n",
    "    df_sub = df_sub.rename(columns={\"image\":\"ImageID\"})\n",
    "    sub_annotations_bbox = pd.merge(new_df, df_sub, on=['ImageID', 'labels'], how='inner')\n",
    "    sub_annotations_bbox = sub_annotations_bbox.drop_duplicates()\n",
    "    sub_annotations_bbox[\"labels\"] = sub_annotations_bbox[\"labels\"].replace(code_to_string)\n",
    "    sub_annotations_bbox = sub_annotations_bbox.rename(columns={\"labels\":\"ClassName\"})\n",
    "    return sub_annotations_bbox"
   ]
  },
  {
   "cell_type": "code",
   "execution_count": 58,
   "metadata": {},
   "outputs": [
    {
     "name": "stdout",
     "output_type": "stream",
     "text": [
      "(82, 2)\n",
      "after merge\n",
      "(85, 6)\n"
     ]
    }
   ],
   "source": [
    "df_train = pd.concat([X_train, y_train], axis=1)\n",
    "print(df_train.shape)\n",
    "sub_train_annotations_bbox = get_particular_csv(df_train, new_df)\n",
    "print(\"after merge\")\n",
    "print(sub_train_annotations_bbox.shape)"
   ]
  },
  {
   "cell_type": "code",
   "execution_count": 59,
   "metadata": {},
   "outputs": [
    {
     "name": "stdout",
     "output_type": "stream",
     "text": [
      "(18, 2)\n",
      "after merge\n",
      "(20, 6)\n"
     ]
    }
   ],
   "source": [
    "df_val = pd.concat([X_val, y_val], axis=1)\n",
    "df_val.columns=(\"ImageID\", \"labels\")\n",
    "print(df_val.shape)\n",
    "sub_validation_annotations_bbox = get_particular_csv(df_val, new_df)\n",
    "print(\"after merge\")\n",
    "print(sub_validation_annotations_bbox.shape)"
   ]
  },
  {
   "cell_type": "code",
   "execution_count": 60,
   "metadata": {},
   "outputs": [
    {
     "name": "stdout",
     "output_type": "stream",
     "text": [
      "(20, 2)\n",
      "after merge\n",
      "(20, 6)\n"
     ]
    }
   ],
   "source": [
    "df_test = pd.concat([X_test, y_test], axis=1)\n",
    "df_test.columns=(\"ImageID\", \"labels\")\n",
    "print(df_test.shape)\n",
    "sub_test_annotations_bbox = get_particular_csv(df_test, new_df)\n",
    "print(\"after merge\")\n",
    "print(sub_test_annotations_bbox.shape)"
   ]
  },
  {
   "cell_type": "code",
   "execution_count": 61,
   "metadata": {},
   "outputs": [
    {
     "data": {
      "text/html": [
       "<div>\n",
       "<style scoped>\n",
       "    .dataframe tbody tr th:only-of-type {\n",
       "        vertical-align: middle;\n",
       "    }\n",
       "\n",
       "    .dataframe tbody tr th {\n",
       "        vertical-align: top;\n",
       "    }\n",
       "\n",
       "    .dataframe thead th {\n",
       "        text-align: right;\n",
       "    }\n",
       "</style>\n",
       "<table border=\"1\" class=\"dataframe\">\n",
       "  <thead>\n",
       "    <tr style=\"text-align: right;\">\n",
       "      <th></th>\n",
       "      <th>ImageID</th>\n",
       "      <th>XMin</th>\n",
       "      <th>YMin</th>\n",
       "      <th>XMax</th>\n",
       "      <th>YMax</th>\n",
       "      <th>ClassName</th>\n",
       "    </tr>\n",
       "  </thead>\n",
       "  <tbody>\n",
       "    <tr>\n",
       "      <th>0</th>\n",
       "      <td>3615.jpg</td>\n",
       "      <td>0.052769</td>\n",
       "      <td>0.111776</td>\n",
       "      <td>0.161677</td>\n",
       "      <td>0.273453</td>\n",
       "      <td>Stop</td>\n",
       "    </tr>\n",
       "    <tr>\n",
       "      <th>1</th>\n",
       "      <td>3617.jpg</td>\n",
       "      <td>0.145958</td>\n",
       "      <td>0.095808</td>\n",
       "      <td>0.261602</td>\n",
       "      <td>0.265469</td>\n",
       "      <td>Stop</td>\n",
       "    </tr>\n",
       "    <tr>\n",
       "      <th>2</th>\n",
       "      <td>3619.jpg</td>\n",
       "      <td>0.260479</td>\n",
       "      <td>0.091816</td>\n",
       "      <td>0.383982</td>\n",
       "      <td>0.265469</td>\n",
       "      <td>Stop</td>\n",
       "    </tr>\n",
       "    <tr>\n",
       "      <th>3</th>\n",
       "      <td>3620.jpg</td>\n",
       "      <td>0.336826</td>\n",
       "      <td>0.095808</td>\n",
       "      <td>0.468189</td>\n",
       "      <td>0.269461</td>\n",
       "      <td>Stop</td>\n",
       "    </tr>\n",
       "    <tr>\n",
       "      <th>4</th>\n",
       "      <td>3623.jpg</td>\n",
       "      <td>0.382859</td>\n",
       "      <td>0.067864</td>\n",
       "      <td>0.520958</td>\n",
       "      <td>0.249501</td>\n",
       "      <td>Stop</td>\n",
       "    </tr>\n",
       "    <tr>\n",
       "      <th>...</th>\n",
       "      <td>...</td>\n",
       "      <td>...</td>\n",
       "      <td>...</td>\n",
       "      <td>...</td>\n",
       "      <td>...</td>\n",
       "      <td>...</td>\n",
       "    </tr>\n",
       "    <tr>\n",
       "      <th>80</th>\n",
       "      <td>947.jpg</td>\n",
       "      <td>0.542290</td>\n",
       "      <td>0.213573</td>\n",
       "      <td>0.620883</td>\n",
       "      <td>0.321357</td>\n",
       "      <td>Stop</td>\n",
       "    </tr>\n",
       "    <tr>\n",
       "      <th>81</th>\n",
       "      <td>948.jpg</td>\n",
       "      <td>0.511976</td>\n",
       "      <td>0.205589</td>\n",
       "      <td>0.590569</td>\n",
       "      <td>0.317365</td>\n",
       "      <td>Stop</td>\n",
       "    </tr>\n",
       "    <tr>\n",
       "      <th>82</th>\n",
       "      <td>949.jpg</td>\n",
       "      <td>0.522081</td>\n",
       "      <td>0.189621</td>\n",
       "      <td>0.606287</td>\n",
       "      <td>0.303393</td>\n",
       "      <td>Stop</td>\n",
       "    </tr>\n",
       "    <tr>\n",
       "      <th>83</th>\n",
       "      <td>950.jpg</td>\n",
       "      <td>0.499626</td>\n",
       "      <td>0.181637</td>\n",
       "      <td>0.584955</td>\n",
       "      <td>0.299401</td>\n",
       "      <td>Stop</td>\n",
       "    </tr>\n",
       "    <tr>\n",
       "      <th>84</th>\n",
       "      <td>951.jpg</td>\n",
       "      <td>0.499626</td>\n",
       "      <td>0.201597</td>\n",
       "      <td>0.586078</td>\n",
       "      <td>0.323353</td>\n",
       "      <td>Stop</td>\n",
       "    </tr>\n",
       "  </tbody>\n",
       "</table>\n",
       "<p>85 rows × 6 columns</p>\n",
       "</div>"
      ],
      "text/plain": [
       "     ImageID      XMin      YMin      XMax      YMax ClassName\n",
       "0   3615.jpg  0.052769  0.111776  0.161677  0.273453      Stop\n",
       "1   3617.jpg  0.145958  0.095808  0.261602  0.265469      Stop\n",
       "2   3619.jpg  0.260479  0.091816  0.383982  0.265469      Stop\n",
       "3   3620.jpg  0.336826  0.095808  0.468189  0.269461      Stop\n",
       "4   3623.jpg  0.382859  0.067864  0.520958  0.249501      Stop\n",
       "..       ...       ...       ...       ...       ...       ...\n",
       "80   947.jpg  0.542290  0.213573  0.620883  0.321357      Stop\n",
       "81   948.jpg  0.511976  0.205589  0.590569  0.317365      Stop\n",
       "82   949.jpg  0.522081  0.189621  0.606287  0.303393      Stop\n",
       "83   950.jpg  0.499626  0.181637  0.584955  0.299401      Stop\n",
       "84   951.jpg  0.499626  0.201597  0.586078  0.323353      Stop\n",
       "\n",
       "[85 rows x 6 columns]"
      ]
     },
     "execution_count": 61,
     "metadata": {},
     "output_type": "execute_result"
    }
   ],
   "source": [
    "sub_train_annotations_bbox"
   ]
  },
  {
   "cell_type": "code",
   "execution_count": 62,
   "metadata": {},
   "outputs": [
    {
     "data": {
      "text/plain": [
       "ImageID      0\n",
       "XMin         0\n",
       "YMin         0\n",
       "XMax         0\n",
       "YMax         0\n",
       "ClassName    0\n",
       "dtype: int64"
      ]
     },
     "execution_count": 62,
     "metadata": {},
     "output_type": "execute_result"
    }
   ],
   "source": [
    "sub_train_annotations_bbox.isna().sum()"
   ]
  },
  {
   "cell_type": "code",
   "execution_count": 63,
   "metadata": {},
   "outputs": [
    {
     "data": {
      "text/plain": [
       "ImageID      0\n",
       "XMin         0\n",
       "YMin         0\n",
       "XMax         0\n",
       "YMax         0\n",
       "ClassName    0\n",
       "dtype: int64"
      ]
     },
     "execution_count": 63,
     "metadata": {},
     "output_type": "execute_result"
    }
   ],
   "source": [
    "sub_validation_annotations_bbox.isna().sum()"
   ]
  },
  {
   "cell_type": "code",
   "execution_count": 64,
   "metadata": {},
   "outputs": [
    {
     "data": {
      "text/plain": [
       "ImageID      0\n",
       "XMin         0\n",
       "YMin         0\n",
       "XMax         0\n",
       "YMax         0\n",
       "ClassName    0\n",
       "dtype: int64"
      ]
     },
     "execution_count": 64,
     "metadata": {},
     "output_type": "execute_result"
    }
   ],
   "source": [
    "sub_test_annotations_bbox.isna().sum()"
   ]
  },
  {
   "cell_type": "code",
   "execution_count": 65,
   "metadata": {},
   "outputs": [],
   "source": [
    "sub_train_annotations_bbox.to_csv(\"/scratch/sshrestha8/Workshop/Day4/data/sub-train-annotations-bbox.csv\", index=False)"
   ]
  },
  {
   "cell_type": "code",
   "execution_count": 66,
   "metadata": {},
   "outputs": [],
   "source": [
    "sub_validation_annotations_bbox.to_csv(\"/scratch/sshrestha8/Workshop/Day4/data/sub-validation-annotations-bbox.csv\", index=False)"
   ]
  },
  {
   "cell_type": "code",
   "execution_count": 67,
   "metadata": {},
   "outputs": [],
   "source": [
    "sub_test_annotations_bbox.to_csv(\"/scratch/sshrestha8/Workshop/Day4/data/sub-test-annotations-bbox.csv\", index=False)"
   ]
  },
  {
   "cell_type": "code",
   "execution_count": 68,
   "metadata": {},
   "outputs": [],
   "source": [
    "train_dir = \"/scratch/sshrestha8/Workshop/Day4/data/train\"\n",
    "validation_dir = \"/scratch/sshrestha8/Workshop/Day4/data/validation\"\n",
    "test_dir = \"/scratch/sshrestha8/Workshop/Day4/data/test\"\n"
   ]
  },
  {
   "cell_type": "code",
   "execution_count": 69,
   "metadata": {},
   "outputs": [],
   "source": [
    "train_dir_list = os.listdir(train_dir)\n",
    "validation_dir_list = os.listdir(validation_dir)\n",
    "test_dir_list = os.listdir(test_dir)"
   ]
  },
  {
   "cell_type": "code",
   "execution_count": 70,
   "metadata": {},
   "outputs": [],
   "source": [
    "def check_common(a_list, b_list):\n",
    "    common_items = [i for i in a_list if i in b_list]\n",
    "    return common_items"
   ]
  },
  {
   "cell_type": "code",
   "execution_count": 71,
   "metadata": {},
   "outputs": [
    {
     "data": {
      "text/plain": [
       "[]"
      ]
     },
     "execution_count": 71,
     "metadata": {},
     "output_type": "execute_result"
    }
   ],
   "source": [
    "check_common(train_dir_list, validation_dir_list)"
   ]
  },
  {
   "cell_type": "code",
   "execution_count": 72,
   "metadata": {},
   "outputs": [
    {
     "data": {
      "text/plain": [
       "[]"
      ]
     },
     "execution_count": 72,
     "metadata": {},
     "output_type": "execute_result"
    }
   ],
   "source": [
    "check_common(train_dir_list, test_dir_list)"
   ]
  },
  {
   "cell_type": "code",
   "execution_count": 73,
   "metadata": {},
   "outputs": [
    {
     "name": "stdout",
     "output_type": "stream",
     "text": [
      "['3621.jpg' '3629.jpg' '3630.jpg' '3631.jpg' '3749.jpg' '3760.jpg'\n",
      " '3772.jpg' '3779.jpg' '3795.jpg' '678.jpg' '694.jpg' '700.jpg' '710.jpg'\n",
      " '771.jpg' '779.jpg' '790.jpg' '813.jpg' '932.jpg' '952.jpg']\n",
      "[0.360404 0.462575 0.469311 0.508608 0.549027 0.51759  0.477171 0.47268\n",
      " 0.499626 0.947605 0.48503  0.486153 0.446856 0.460329 0.398578 0.489521\n",
      " 0.52994 ]\n",
      "[0.083832 0.023952 0.017964 0.       0.227545 0.207585 0.181637 0.137725\n",
      " 0.08982  0.131737 0.201597 0.085828 0.153693 0.141717 0.06986  0.225549\n",
      " 0.183633]\n",
      "[0.492889 0.615269 0.624251 0.575973 0.632111 0.60741  0.584955 0.602918\n",
      " 0.992515 0.63997  0.625374 0.57485  0.581587 0.599551 0.566991 0.563623\n",
      " 0.622006]\n",
      "[0.261477 0.221557 0.223553 0.217565 0.319361 0.321357 0.303393 0.281437\n",
      " 0.263473 0.271457 0.325349 0.245509 0.219561 0.191617 0.289421 0.283433\n",
      " 0.253493 0.207585 0.307385]\n",
      "['Stop' 'Left' 'Right']\n"
     ]
    }
   ],
   "source": [
    "for column in sub_test_annotations_bbox.columns:\n",
    "    print(sub_test_annotations_bbox[column].unique())"
   ]
  },
  {
   "cell_type": "code",
   "execution_count": 74,
   "metadata": {},
   "outputs": [
    {
     "name": "stdout",
     "output_type": "stream",
     "text": [
      "['3614.jpg' '3616.jpg' '3618.jpg' '3622.jpg' '3748.jpg' '3750.jpg'\n",
      " '3777.jpg' '657.jpg' '660.jpg' '708.jpg' '763.jpg' '770.jpg' '778.jpg'\n",
      " '780.jpg' '781.jpg' '812.jpg' '953.jpg']\n",
      "[0.013473 0.106662 0.202096 0.386228 0.51422  0.       0.49738  0.481662\n",
      " 0.625374 0.26834  0.952096 0.678144 0.489521 0.480539 0.491766 0.463698\n",
      " 0.478293 0.460329 0.422156 0.522081]\n",
      "[0.111776 0.101796 0.053892 0.233533 0.281437 0.227545 0.169661 0.279441\n",
      " 0.171657 0.277445 0.00998  0.191617 0.175649 0.135729 0.133733 0.121756\n",
      " 0.011976]\n",
      "[0.117889 0.22006  0.322231 0.525449 0.581587 0.028069 0.568114 0.58271\n",
      " 0.671407 0.357036 0.993638 0.715195 0.653441 0.560254 0.586078 0.566991\n",
      " 0.577096 0.615269]\n",
      "[0.275449 0.269461 0.267465 0.237525 0.323353 0.353293 0.319361 0.307385\n",
      " 0.347305 0.295409 0.349301 0.327345 0.209581 0.299401 0.303393 0.281437\n",
      " 0.277445 0.211577]\n",
      "['Stop' 'Left' 'Right']\n"
     ]
    }
   ],
   "source": [
    "for column in sub_validation_annotations_bbox.columns:\n",
    "    print(sub_validation_annotations_bbox[column].unique())"
   ]
  },
  {
   "cell_type": "code",
   "execution_count": 75,
   "metadata": {},
   "outputs": [
    {
     "name": "stdout",
     "output_type": "stream",
     "text": [
      "['3615.jpg' '3617.jpg' '3619.jpg' '3620.jpg' '3623.jpg' '3624.jpg'\n",
      " '3627.jpg' '3628.jpg' '3632.jpg' '3747.jpg' '3751.jpg' '3752.jpg'\n",
      " '3774.jpg' '3775.jpg' '3783.jpg' '3793.jpg' '3798.jpg' '3801.jpg'\n",
      " '3803.jpg' '3832.jpg' '3840.jpg' '3847.jpg' '3865.jpg' '3866.jpg'\n",
      " '658.jpg' '661.jpg' '662.jpg' '667.jpg' '668.jpg' '669.jpg' '670.jpg'\n",
      " '673.jpg' '674.jpg' '675.jpg' '676.jpg' '680.jpg' '682.jpg' '692.jpg'\n",
      " '697.jpg' '734.jpg' '735.jpg' '737.jpg' '744.jpg' '751.jpg' '754.jpg'\n",
      " '757.jpg' '762.jpg' '764.jpg' '765.jpg' '766.jpg' '767.jpg' '769.jpg'\n",
      " '772.jpg' '776.jpg' '782.jpg' '783.jpg' '784.jpg' '785.jpg' '786.jpg'\n",
      " '788.jpg' '810.jpg' '811.jpg' '931.jpg' '933.jpg' '945.jpg' '946.jpg'\n",
      " '947.jpg' '948.jpg' '949.jpg' '950.jpg' '951.jpg']\n",
      "[0.052769 0.145958 0.260479 0.336826 0.382859 0.385105 0.394087 0.427769\n",
      " 0.479416 0.533308 0.01235  0.511977 0.524326 0.494012 0.48503  0.463697\n",
      " 0.474925 0.463698 0.460329 0.438997 0.007859 0.050524 0.518713 0.177395\n",
      " 0.605165 0.578219 0.046034 0.721931 0.333459 0.327846 0.739896 0.326722\n",
      " 0.348054 0.762351 0.451347 0.864521 0.891467 0.499626 0.92066  0.49738\n",
      " 0.927396 0.934133 0.492889 0.956587 0.498503 0.496257 0.553518 0.478293\n",
      " 0.888099 0.675898 0.756737 0.535554 0.536677 0.537799 0.502994 0.24476\n",
      " 0.171781 0.483907 0.477171 0.455839 0.506362 0.514223 0.491766 0.480539\n",
      " 0.441243 0.437874 0.46482  0.461452 0.449102 0.423278 0.489521 0.531063\n",
      " 0.54229  0.511976 0.522081]\n",
      "[0.111776 0.095808 0.091816 0.067864 0.055888 0.051896 0.       0.221557\n",
      " 0.275449 0.227545 0.217565 0.179641 0.177645 0.127745 0.097804 0.041916\n",
      " 0.013972 0.259481 0.289421 0.269461 0.247505 0.251497 0.159681 0.273453\n",
      " 0.171657 0.229541 0.169661 0.223553 0.135729 0.189621 0.155689 0.207585\n",
      " 0.157685 0.233533 0.117764 0.197605 0.065868 0.271457 0.083832 0.085828\n",
      " 0.187625 0.185629 0.113772 0.081836 0.077844 0.075848 0.031936 0.225549\n",
      " 0.203593 0.213573 0.205589 0.181637 0.201597]\n",
      "[0.161677 0.261602 0.383982 0.468189 0.520958 0.522081 0.531063 0.570359\n",
      " 0.642216 0.599551 0.049401 0.580463 0.596183 0.588323 0.581587 0.577096\n",
      " 0.598427 0.614147 0.624251 0.06512  0.106662 0.552395 0.216692 0.668039\n",
      " 0.643338 0.131362 0.764596 0.425524 0.41991  0.778069 0.418787 0.441243\n",
      " 0.800524 0.546781 0.901572 0.929641 0.601796 0.961078 0.597305 0.966692\n",
      " 0.973428 0.60741  1.       0.618638 0.616392 0.560254 0.611901 0.945359\n",
      " 0.805007 0.813997 0.666916 0.602919 0.389596 0.326722 0.5625   0.556886\n",
      " 0.536677 0.561377 0.587201 0.586077 0.575973 0.579341 0.600674 0.569236\n",
      " 0.57485  0.608533 0.620883 0.590569 0.606287 0.584955 0.586078]\n",
      "[0.273453 0.265469 0.269461 0.249501 0.237525 0.241517 0.201597 0.311377\n",
      " 0.349301 0.323353 0.315369 0.309381 0.279441 0.259481 0.233533 0.227545\n",
      " 0.199601 0.353293 0.357285 0.347305 0.335329 0.343313 0.283433 0.345309\n",
      " 0.303393 0.297405 0.329341 0.331337 0.261477 0.299401 0.285429 0.293413\n",
      " 0.333333 0.271457 0.325349 0.105788 0.239521 0.361277 0.365269 0.281437\n",
      " 0.341317 0.217565 0.197605 0.313373 0.301397 0.295409 0.287425 0.257485\n",
      " 0.223553 0.221557 0.321357 0.319361 0.317365]\n",
      "['Stop' 'Left' 'Right']\n"
     ]
    }
   ],
   "source": [
    "for column in sub_train_annotations_bbox.columns:\n",
    "    print(sub_train_annotations_bbox[column].unique())"
   ]
  },
  {
   "cell_type": "code",
   "execution_count": null,
   "metadata": {},
   "outputs": [],
   "source": []
  },
  {
   "cell_type": "code",
   "execution_count": null,
   "metadata": {},
   "outputs": [],
   "source": []
  },
  {
   "cell_type": "code",
   "execution_count": null,
   "metadata": {},
   "outputs": [],
   "source": []
  }
 ],
 "metadata": {
  "colab": {
   "provenance": []
  },
  "kernelspec": {
   "display_name": "Python 3 (ipykernel)",
   "language": "python",
   "name": "python3"
  },
  "language_info": {
   "codemirror_mode": {
    "name": "ipython",
    "version": 3
   },
   "file_extension": ".py",
   "mimetype": "text/x-python",
   "name": "python",
   "nbconvert_exporter": "python",
   "pygments_lexer": "ipython3",
   "version": "3.9.9"
  }
 },
 "nbformat": 4,
 "nbformat_minor": 4
}
