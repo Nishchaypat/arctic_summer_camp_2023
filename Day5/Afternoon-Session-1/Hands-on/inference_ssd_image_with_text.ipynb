{
 "cells": [
  {
   "cell_type": "code",
   "execution_count": 10,
   "id": "b02d7f85-70a6-4a00-b6ad-03ec75ac9051",
   "metadata": {},
   "outputs": [
    {
     "name": "stdout",
     "output_type": "stream",
     "text": [
      "boxes tensor([[610.8672, 113.2781, 740.8861, 207.6877]])\n",
      "label tensor([2])\n",
      "probs tensor([0.3688])\n",
      "Found 1 objects. The output image is output.jpg\n"
     ]
    }
   ],
   "source": [
    "from vision.ssd.mobilenetv1_ssd import create_mobilenetv1_ssd, create_mobilenetv1_ssd_predictor\n",
    "import cv2\n",
    "import sys\n",
    "import os\n",
    "import numpy as np\n",
    "\n",
    "\n",
    "scratch_root = \"/scratch/sshrestha8/Workshop/Day4/saving_directories/checkpoints\"\n",
    "data_root = \"/scratch/sshrestha8/Workshop/Day4/data\"\n",
    "\n",
    "net_type = \"mb1-ssd\"\n",
    "model_path =  os.path.join(scratch_root, \"mb1-ssd-Epoch-99-Loss-0.8893855273723602.pth\")\n",
    "label_path = os.path.join(scratch_root,\"labels.txt\")\n",
    "\n",
    "class_names = [name.strip() for name in open(label_path).readlines()]\n",
    "\n",
    "net_type == 'mb1-ssd'\n",
    "net = create_mobilenetv1_ssd(len(class_names), is_test=True)\n",
    "net.load(model_path)\n",
    "\n",
    "predictor = create_mobilenetv1_ssd_predictor(net, candidate_size=200)\n",
    "\n",
    "image_path = os.path.join(data_root, \"test/771.jpg\")\n",
    "\n",
    "while(True):\n",
    "\n",
    "    img = cv2.imread(image_path)\n",
    "\n",
    "    img = np.float32(img)\n",
    "    img = cv2.cvtColor(img, cv2.COLOR_BGR2RGB)\n",
    "\n",
    "\n",
    "    boxes, labels, probs = predictor.predict(img, 10, 0.1)\n",
    "    print(\"boxes\", boxes)\n",
    "    print(\"label\", labels)\n",
    "    print(\"probs\", probs)\n",
    "    for i in range(boxes.size(0)):\n",
    "        box = boxes[i, :]\n",
    "    \n",
    "        cv2.rectangle(img, (int(box[0].item()), int(box[1].item())), (int(box[2].item()), int(box[3].item())), (255, 255, 0), 4)\n",
    "\n",
    "        label = f\"{class_names[labels[i]]}: {probs[i]:.2f}\"\n",
    "        cv2.putText(img, label,\n",
    "                    ((int(box[0].item())) + 20, (int(box[1].item())) + 40),\n",
    "                    cv2.FONT_HERSHEY_SIMPLEX,\n",
    "                    1,  # font scale\n",
    "                    (255, 0, 255),\n",
    "                    2)  # line type\n",
    "\n",
    "    break\n",
    "\n",
    "path = \"output.jpg\"\n",
    "cv2.imwrite(path, img)\n",
    "print(f\"Found {len(probs)} objects. The output image is {path}\")"
   ]
  },
  {
   "cell_type": "code",
   "execution_count": null,
   "id": "723f97f1-425c-4525-abac-7611d1e074f8",
   "metadata": {},
   "outputs": [],
   "source": [
    "#use control loop and make count % 5, get width function"
   ]
  }
 ],
 "metadata": {
  "kernelspec": {
   "display_name": "Python 3 (ipykernel)",
   "language": "python",
   "name": "python3"
  },
  "language_info": {
   "codemirror_mode": {
    "name": "ipython",
    "version": 3
   },
   "file_extension": ".py",
   "mimetype": "text/x-python",
   "name": "python",
   "nbconvert_exporter": "python",
   "pygments_lexer": "ipython3",
   "version": "3.9.9"
  }
 },
 "nbformat": 4,
 "nbformat_minor": 5
}
