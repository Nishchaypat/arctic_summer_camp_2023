{
 "cells": [
  {
   "cell_type": "code",
   "execution_count": 35,
   "id": "fe3708d5-4869-4635-8451-17611ba7a930",
   "metadata": {},
   "outputs": [],
   "source": [
    "user = \"gs75588\""
   ]
  },
  {
   "cell_type": "code",
   "execution_count": 36,
   "id": "42adf053-c280-4abb-aa26-ee49dad08a2e",
   "metadata": {},
   "outputs": [],
   "source": [
    "source_dir = os.path.join(\"/scratch/Workshop\", user)"
   ]
  },
  {
   "cell_type": "code",
   "execution_count": 37,
   "id": "e1e76fad-42ee-4ef1-a4a6-046158ca16c0",
   "metadata": {},
   "outputs": [],
   "source": [
    "import os"
   ]
  },
  {
   "cell_type": "code",
   "execution_count": 38,
   "id": "5e35ec99-dabc-406f-8f23-52eed3cab46a",
   "metadata": {},
   "outputs": [],
   "source": [
    "list_of_files = os.listdir(source_dir)"
   ]
  },
  {
   "cell_type": "code",
   "execution_count": 39,
   "id": "84b2a6de-e7f1-484c-bbe2-4d96877b30e7",
   "metadata": {},
   "outputs": [],
   "source": [
    "for file in list_of_files:\n",
    "    if file.startswith(\"Frame\"):\n",
    "        os.rename(os.path.join(source_dir, file), os.path.join(source_dir, user+\"_\"+file))"
   ]
  },
  {
   "cell_type": "code",
   "execution_count": 79,
   "id": "f2f3cc11-48d3-44c0-9ad1-ce5378f1d397",
   "metadata": {},
   "outputs": [
    {
     "data": {
      "text/plain": [
       "'gs75589.csv'"
      ]
     },
     "execution_count": 79,
     "metadata": {},
     "output_type": "execute_result"
    }
   ],
   "source": [
    "user = \"gs75589\"\n",
    "csv_filename = user+\".csv\"\n",
    "csv_filename"
   ]
  },
  {
   "cell_type": "code",
   "execution_count": 80,
   "id": "f5de1d87-b367-40c5-83b0-d8b7839b2f64",
   "metadata": {},
   "outputs": [],
   "source": [
    "import pandas as pd"
   ]
  },
  {
   "cell_type": "code",
   "execution_count": 81,
   "id": "0b0fcccd-0151-488e-97b5-ee055a40e9e9",
   "metadata": {},
   "outputs": [],
   "source": [
    "df = pd.read_csv(os.path.join(\"/scratch/Workshop/\", csv_filename))"
   ]
  },
  {
   "cell_type": "code",
   "execution_count": 82,
   "id": "95227960-0158-487b-a7a7-228a1da8489c",
   "metadata": {},
   "outputs": [
    {
     "data": {
      "text/html": [
       "<div>\n",
       "<style scoped>\n",
       "    .dataframe tbody tr th:only-of-type {\n",
       "        vertical-align: middle;\n",
       "    }\n",
       "\n",
       "    .dataframe tbody tr th {\n",
       "        vertical-align: top;\n",
       "    }\n",
       "\n",
       "    .dataframe thead th {\n",
       "        text-align: right;\n",
       "    }\n",
       "</style>\n",
       "<table border=\"1\" class=\"dataframe\">\n",
       "  <thead>\n",
       "    <tr style=\"text-align: right;\">\n",
       "      <th></th>\n",
       "      <th>annotation_id</th>\n",
       "      <th>annotator</th>\n",
       "      <th>created_at</th>\n",
       "      <th>id</th>\n",
       "      <th>image</th>\n",
       "      <th>label</th>\n",
       "      <th>lead_time</th>\n",
       "      <th>updated_at</th>\n",
       "    </tr>\n",
       "  </thead>\n",
       "  <tbody>\n",
       "    <tr>\n",
       "      <th>0</th>\n",
       "      <td>1</td>\n",
       "      <td>1</td>\n",
       "      <td>2023-07-21T15:14:29.377331Z</td>\n",
       "      <td>1</td>\n",
       "      <td>/data/upload/1/f13e06f0-Frame_10.jpg</td>\n",
       "      <td>[{\"x\":37.5,\"y\":38.88888888888889,\"width\":6.114...</td>\n",
       "      <td>50.331</td>\n",
       "      <td>2023-07-21T15:14:29.377367Z</td>\n",
       "    </tr>\n",
       "    <tr>\n",
       "      <th>1</th>\n",
       "      <td>2</td>\n",
       "      <td>1</td>\n",
       "      <td>2023-07-21T15:15:28.783308Z</td>\n",
       "      <td>2</td>\n",
       "      <td>/data/upload/1/9a690bdb-Frame_10.jpg</td>\n",
       "      <td>[{\"x\":37.36413043478261,\"y\":39.855072463768124...</td>\n",
       "      <td>58.851</td>\n",
       "      <td>2023-07-21T15:15:28.783344Z</td>\n",
       "    </tr>\n",
       "    <tr>\n",
       "      <th>2</th>\n",
       "      <td>3</td>\n",
       "      <td>1</td>\n",
       "      <td>2023-07-21T15:15:45.296154Z</td>\n",
       "      <td>3</td>\n",
       "      <td>/data/upload/1/fe228e68-Frame_11.jpg</td>\n",
       "      <td>[{\"x\":37.22826086956522,\"y\":39.371980676328505...</td>\n",
       "      <td>15.946</td>\n",
       "      <td>2023-07-21T15:15:45.296196Z</td>\n",
       "    </tr>\n",
       "    <tr>\n",
       "      <th>3</th>\n",
       "      <td>4</td>\n",
       "      <td>1</td>\n",
       "      <td>2023-07-21T15:16:07.505088Z</td>\n",
       "      <td>4</td>\n",
       "      <td>/data/upload/1/085e612c-Frame_12.jpg</td>\n",
       "      <td>[{\"x\":37.5,\"y\":39.855072463768124,\"width\":5.84...</td>\n",
       "      <td>21.718</td>\n",
       "      <td>2023-07-21T15:16:07.505126Z</td>\n",
       "    </tr>\n",
       "    <tr>\n",
       "      <th>4</th>\n",
       "      <td>5</td>\n",
       "      <td>1</td>\n",
       "      <td>2023-07-21T15:16:24.876102Z</td>\n",
       "      <td>5</td>\n",
       "      <td>/data/upload/1/d6ccc16a-Frame_13.jpg</td>\n",
       "      <td>[{\"x\":37.22826086956522,\"y\":39.613526570048315...</td>\n",
       "      <td>16.820</td>\n",
       "      <td>2023-07-21T15:16:24.876134Z</td>\n",
       "    </tr>\n",
       "  </tbody>\n",
       "</table>\n",
       "</div>"
      ],
      "text/plain": [
       "   annotation_id  annotator                   created_at  id  \\\n",
       "0              1          1  2023-07-21T15:14:29.377331Z   1   \n",
       "1              2          1  2023-07-21T15:15:28.783308Z   2   \n",
       "2              3          1  2023-07-21T15:15:45.296154Z   3   \n",
       "3              4          1  2023-07-21T15:16:07.505088Z   4   \n",
       "4              5          1  2023-07-21T15:16:24.876102Z   5   \n",
       "\n",
       "                                  image  \\\n",
       "0  /data/upload/1/f13e06f0-Frame_10.jpg   \n",
       "1  /data/upload/1/9a690bdb-Frame_10.jpg   \n",
       "2  /data/upload/1/fe228e68-Frame_11.jpg   \n",
       "3  /data/upload/1/085e612c-Frame_12.jpg   \n",
       "4  /data/upload/1/d6ccc16a-Frame_13.jpg   \n",
       "\n",
       "                                               label  lead_time  \\\n",
       "0  [{\"x\":37.5,\"y\":38.88888888888889,\"width\":6.114...     50.331   \n",
       "1  [{\"x\":37.36413043478261,\"y\":39.855072463768124...     58.851   \n",
       "2  [{\"x\":37.22826086956522,\"y\":39.371980676328505...     15.946   \n",
       "3  [{\"x\":37.5,\"y\":39.855072463768124,\"width\":5.84...     21.718   \n",
       "4  [{\"x\":37.22826086956522,\"y\":39.613526570048315...     16.820   \n",
       "\n",
       "                    updated_at  \n",
       "0  2023-07-21T15:14:29.377367Z  \n",
       "1  2023-07-21T15:15:28.783344Z  \n",
       "2  2023-07-21T15:15:45.296196Z  \n",
       "3  2023-07-21T15:16:07.505126Z  \n",
       "4  2023-07-21T15:16:24.876134Z  "
      ]
     },
     "execution_count": 82,
     "metadata": {},
     "output_type": "execute_result"
    }
   ],
   "source": [
    "df.head()"
   ]
  },
  {
   "cell_type": "code",
   "execution_count": 83,
   "id": "2b0534e3-a5ae-4ec6-b339-4c669d87f014",
   "metadata": {},
   "outputs": [],
   "source": [
    "df[\"image\"] = user+\"_\"+df[\"image\"].str.split(\"-\").str[-1]"
   ]
  },
  {
   "cell_type": "code",
   "execution_count": 84,
   "id": "59ffe917-364f-450f-aff8-1b74809ab0be",
   "metadata": {},
   "outputs": [
    {
     "data": {
      "text/plain": [
       "0     gs75589_Frame_10.jpg\n",
       "1     gs75589_Frame_10.jpg\n",
       "2     gs75589_Frame_11.jpg\n",
       "3     gs75589_Frame_12.jpg\n",
       "4     gs75589_Frame_13.jpg\n",
       "              ...         \n",
       "75    gs75589_Frame_84.jpg\n",
       "76    gs75589_Frame_85.jpg\n",
       "77    gs75589_Frame_86.jpg\n",
       "78    gs75589_Frame_87.jpg\n",
       "79    gs75589_Frame_88.jpg\n",
       "Name: image, Length: 80, dtype: object"
      ]
     },
     "execution_count": 84,
     "metadata": {},
     "output_type": "execute_result"
    }
   ],
   "source": [
    "df[\"image\"]"
   ]
  },
  {
   "cell_type": "code",
   "execution_count": 85,
   "id": "f3855172-f981-4d86-8c6c-5f2d32ef67f2",
   "metadata": {},
   "outputs": [
    {
     "data": {
      "text/html": [
       "<div>\n",
       "<style scoped>\n",
       "    .dataframe tbody tr th:only-of-type {\n",
       "        vertical-align: middle;\n",
       "    }\n",
       "\n",
       "    .dataframe tbody tr th {\n",
       "        vertical-align: top;\n",
       "    }\n",
       "\n",
       "    .dataframe thead th {\n",
       "        text-align: right;\n",
       "    }\n",
       "</style>\n",
       "<table border=\"1\" class=\"dataframe\">\n",
       "  <thead>\n",
       "    <tr style=\"text-align: right;\">\n",
       "      <th></th>\n",
       "      <th>annotation_id</th>\n",
       "      <th>annotator</th>\n",
       "      <th>created_at</th>\n",
       "      <th>id</th>\n",
       "      <th>image</th>\n",
       "      <th>label</th>\n",
       "      <th>lead_time</th>\n",
       "      <th>updated_at</th>\n",
       "    </tr>\n",
       "  </thead>\n",
       "  <tbody>\n",
       "    <tr>\n",
       "      <th>0</th>\n",
       "      <td>1</td>\n",
       "      <td>1</td>\n",
       "      <td>2023-07-21T15:14:29.377331Z</td>\n",
       "      <td>1</td>\n",
       "      <td>gs75589_Frame_10.jpg</td>\n",
       "      <td>[{\"x\":37.5,\"y\":38.88888888888889,\"width\":6.114...</td>\n",
       "      <td>50.331</td>\n",
       "      <td>2023-07-21T15:14:29.377367Z</td>\n",
       "    </tr>\n",
       "    <tr>\n",
       "      <th>1</th>\n",
       "      <td>2</td>\n",
       "      <td>1</td>\n",
       "      <td>2023-07-21T15:15:28.783308Z</td>\n",
       "      <td>2</td>\n",
       "      <td>gs75589_Frame_10.jpg</td>\n",
       "      <td>[{\"x\":37.36413043478261,\"y\":39.855072463768124...</td>\n",
       "      <td>58.851</td>\n",
       "      <td>2023-07-21T15:15:28.783344Z</td>\n",
       "    </tr>\n",
       "    <tr>\n",
       "      <th>2</th>\n",
       "      <td>3</td>\n",
       "      <td>1</td>\n",
       "      <td>2023-07-21T15:15:45.296154Z</td>\n",
       "      <td>3</td>\n",
       "      <td>gs75589_Frame_11.jpg</td>\n",
       "      <td>[{\"x\":37.22826086956522,\"y\":39.371980676328505...</td>\n",
       "      <td>15.946</td>\n",
       "      <td>2023-07-21T15:15:45.296196Z</td>\n",
       "    </tr>\n",
       "    <tr>\n",
       "      <th>3</th>\n",
       "      <td>4</td>\n",
       "      <td>1</td>\n",
       "      <td>2023-07-21T15:16:07.505088Z</td>\n",
       "      <td>4</td>\n",
       "      <td>gs75589_Frame_12.jpg</td>\n",
       "      <td>[{\"x\":37.5,\"y\":39.855072463768124,\"width\":5.84...</td>\n",
       "      <td>21.718</td>\n",
       "      <td>2023-07-21T15:16:07.505126Z</td>\n",
       "    </tr>\n",
       "    <tr>\n",
       "      <th>4</th>\n",
       "      <td>5</td>\n",
       "      <td>1</td>\n",
       "      <td>2023-07-21T15:16:24.876102Z</td>\n",
       "      <td>5</td>\n",
       "      <td>gs75589_Frame_13.jpg</td>\n",
       "      <td>[{\"x\":37.22826086956522,\"y\":39.613526570048315...</td>\n",
       "      <td>16.820</td>\n",
       "      <td>2023-07-21T15:16:24.876134Z</td>\n",
       "    </tr>\n",
       "  </tbody>\n",
       "</table>\n",
       "</div>"
      ],
      "text/plain": [
       "   annotation_id  annotator                   created_at  id  \\\n",
       "0              1          1  2023-07-21T15:14:29.377331Z   1   \n",
       "1              2          1  2023-07-21T15:15:28.783308Z   2   \n",
       "2              3          1  2023-07-21T15:15:45.296154Z   3   \n",
       "3              4          1  2023-07-21T15:16:07.505088Z   4   \n",
       "4              5          1  2023-07-21T15:16:24.876102Z   5   \n",
       "\n",
       "                  image                                              label  \\\n",
       "0  gs75589_Frame_10.jpg  [{\"x\":37.5,\"y\":38.88888888888889,\"width\":6.114...   \n",
       "1  gs75589_Frame_10.jpg  [{\"x\":37.36413043478261,\"y\":39.855072463768124...   \n",
       "2  gs75589_Frame_11.jpg  [{\"x\":37.22826086956522,\"y\":39.371980676328505...   \n",
       "3  gs75589_Frame_12.jpg  [{\"x\":37.5,\"y\":39.855072463768124,\"width\":5.84...   \n",
       "4  gs75589_Frame_13.jpg  [{\"x\":37.22826086956522,\"y\":39.613526570048315...   \n",
       "\n",
       "   lead_time                   updated_at  \n",
       "0     50.331  2023-07-21T15:14:29.377367Z  \n",
       "1     58.851  2023-07-21T15:15:28.783344Z  \n",
       "2     15.946  2023-07-21T15:15:45.296196Z  \n",
       "3     21.718  2023-07-21T15:16:07.505126Z  \n",
       "4     16.820  2023-07-21T15:16:24.876134Z  "
      ]
     },
     "execution_count": 85,
     "metadata": {},
     "output_type": "execute_result"
    }
   ],
   "source": [
    "df.head()"
   ]
  },
  {
   "cell_type": "code",
   "execution_count": 86,
   "id": "d5dc22cb-85dd-446c-b339-bdae89504553",
   "metadata": {},
   "outputs": [],
   "source": [
    "df.to_csv(\"user_\"+user+\".csv\")"
   ]
  },
  {
   "cell_type": "code",
   "execution_count": null,
   "id": "70e14f71-780f-4ca7-b1e7-f34770050d62",
   "metadata": {},
   "outputs": [],
   "source": []
  },
  {
   "cell_type": "code",
   "execution_count": null,
   "id": "82eda541-5073-4f17-b601-2aab79a6fce2",
   "metadata": {},
   "outputs": [],
   "source": []
  },
  {
   "cell_type": "code",
   "execution_count": null,
   "id": "305e6cf2-099a-421f-8e9c-fdf6742ab93d",
   "metadata": {},
   "outputs": [],
   "source": []
  },
  {
   "cell_type": "code",
   "execution_count": null,
   "id": "ba93270d-ba5e-42ea-9c4e-3cb3fb693d8e",
   "metadata": {},
   "outputs": [],
   "source": []
  },
  {
   "cell_type": "code",
   "execution_count": null,
   "id": "4a5f7dc1-5f13-41cc-adcb-af266e6abe61",
   "metadata": {},
   "outputs": [],
   "source": []
  },
  {
   "cell_type": "code",
   "execution_count": null,
   "id": "2e408282-2bfa-485e-9807-264621d926cb",
   "metadata": {},
   "outputs": [],
   "source": []
  },
  {
   "cell_type": "code",
   "execution_count": null,
   "id": "d2b32201-6c3f-42e7-a3b0-960db06cfd93",
   "metadata": {},
   "outputs": [],
   "source": []
  }
 ],
 "metadata": {
  "kernelspec": {
   "display_name": "Python 3 (ipykernel)",
   "language": "python",
   "name": "python3"
  },
  "language_info": {
   "codemirror_mode": {
    "name": "ipython",
    "version": 3
   },
   "file_extension": ".py",
   "mimetype": "text/x-python",
   "name": "python",
   "nbconvert_exporter": "python",
   "pygments_lexer": "ipython3",
   "version": "3.9.9"
  }
 },
 "nbformat": 4,
 "nbformat_minor": 5
}
